{
 "cells": [
  {
   "attachments": {},
   "cell_type": "markdown",
   "metadata": {},
   "source": [
    "## To Do\n",
    "\n",
    "- Ask Marius about jupyter hub rwth\n",
    "- figure out best application profile / create one?\n",
    "- use fcs files to extract metadata\n",
    "- email Amin and Petar with dates for demos\n",
    "- fix how we're adding metadata to the folder"
   ]
  },
  {
   "attachments": {},
   "cell_type": "markdown",
   "metadata": {},
   "source": [
    "# With metadata to better data! (Meta)Data transfer from and to Coscine\n",
    "\n",
    "The [Coscine research data platform](https://www.coscine.de) provides an API interface to transfer metadata annotated data to Coscine in automated processes. In the workshop, we will show in small-scale steps how to move data to Coscine using a JupyterNotebook (Python) and Coscine's personal authentication token, and how to specify the metadata using the application profile provided by the application. Prior knowledge of Python is desirable."
   ]
  },
  {
   "attachments": {},
   "cell_type": "markdown",
   "metadata": {},
   "source": [
    "First things first, you need a Coscine project. You can use your own if you have access, or we will add you to this one: https://coscine.rwth-aachen.de/p/fdmwerkstatt/ \n",
    "\n",
    "Next, head to your [user profile](https://coscine.rwth-aachen.de/user/) and get your Access Token. Copy this into your config file under `token`.\n"
   ]
  },
  {
   "attachments": {},
   "cell_type": "markdown",
   "metadata": {},
   "source": [
    "Create a resource... "
   ]
  },
  {
   "attachments": {},
   "cell_type": "markdown",
   "metadata": {},
   "source": [
    "Go to the resource setting and copy all relevant information into your config file. This includes resource name and ID and project name. \n",
    "\n",
    "Now let's load all dependencies and configurations into our jupyter notebook."
   ]
  },
  {
   "cell_type": "code",
   "execution_count": 1,
   "metadata": {},
   "outputs": [
    {
     "name": "stderr",
     "output_type": "stream",
     "text": [
      "C:\\Users\\pj430626\\AppData\\Roaming\\Python\\Python311\\site-packages\\tqdm\\auto.py:21: TqdmWarning: IProgress not found. Please update jupyter and ipywidgets. See https://ipywidgets.readthedocs.io/en/stable/user_install.html\n",
      "  from .autonotebook import tqdm as notebook_tqdm\n"
     ]
    }
   ],
   "source": [
    "import coscine\n",
    "import json\n",
    "from datetime import datetime\n",
    "from pathlib import Path\n",
    "import re "
   ]
  },
  {
   "attachments": {},
   "cell_type": "markdown",
   "metadata": {},
   "source": [
    "If you have any errors loading the packages, run the code below with the associated package name:"
   ]
  },
  {
   "cell_type": "code",
   "execution_count": null,
   "metadata": {},
   "outputs": [],
   "source": [
    "pip install PACKAGE_NAME"
   ]
  },
  {
   "attachments": {},
   "cell_type": "markdown",
   "metadata": {},
   "source": [
    "Load the configuration:"
   ]
  },
  {
   "cell_type": "code",
   "execution_count": 2,
   "metadata": {},
   "outputs": [],
   "source": [
    "# type this\n",
    "with open(\"config.json\") as f:\n",
    "    cfg = json.load(f)\n",
    "\n",
    "RESOURCE: str = cfg['resourceName']\n",
    "PROJECT: str = cfg['projectName']\n",
    "TOKEN: str = cfg['token']"
   ]
  },
  {
   "attachments": {},
   "cell_type": "markdown",
   "metadata": {},
   "source": [
    "We use the Coscine package to connect with Coscine REST API, which enables us to interact with our project and resource. \n",
    "\n",
    "For more information and other examples: [Coscine Python SDK](https://git.rwth-aachen.de/coscine/community-features/coscine-python-sdk)"
   ]
  },
  {
   "cell_type": "code",
   "execution_count": 3,
   "metadata": {},
   "outputs": [],
   "source": [
    "client = coscine.Client(TOKEN)\n",
    "\n",
    "project = client.project(PROJECT)\n",
    "resource = project.resource(RESOURCE)\n"
   ]
  },
  {
   "cell_type": "code",
   "execution_count": 4,
   "metadata": {},
   "outputs": [
    {
     "name": "stdout",
     "output_type": "stream",
     "text": [
      "+------------------------------------------------------------------------------+\n",
      "|                            Project FDM_Werkstatt                             |\n",
      "+-------------------------+----------------------------------------------------+\n",
      "|         Property        |                       Value                        |\n",
      "+-------------------------+----------------------------------------------------+\n",
      "|            ID           |        ae6aa507-27fb-4e1f-84ab-16f1f4c6d320        |\n",
      "|           Name          |                   FDM_Werkstatt                    |\n",
      "|       Display Name      |                   FDM_Werkstatt                    |\n",
      "|       Description       | With metadata to better data! (Meta)Data transfer  |\n",
      "|                         |                from and to Coscine                 |\n",
      "|                         |                                                    |\n",
      "|                         | The Coscine research data platform provides an API |\n",
      "|                         |  interface to transfer metadata annotated data to  |\n",
      "|                         |  Coscine in automated processes. In the workshop,  |\n",
      "|                         | we will show in small-scale steps how to move data |\n",
      "|                         |  to Coscine using a JupyterNotebook (Python) and   |\n",
      "|                         |  Coscine's personal authentication token, and how  |\n",
      "|                         |   to specify the metadata using the application    |\n",
      "|                         |     profile provided by the application. Prior     |\n",
      "|                         |         knowledge of Python is desirable.          |\n",
      "| Principle Investigators |          Nicole Parks, Catherine Gonzalez          |\n",
      "|       Disciplines       |                Computer Science 409                |\n",
      "|      Organizations      |             https://ror.org/04xfq0f34              |\n",
      "|                         |             https://ror.org/04mz5ra38              |\n",
      "|                         |             https://ror.org/01k97gp34              |\n",
      "|                         |             https://ror.org/02gm5zw39              |\n",
      "|                         |             https://ror.org/00rcxh774              |\n",
      "|                         |             https://ror.org/04tqgg260              |\n",
      "|                         |             https://ror.org/00pd74e08              |\n",
      "|        Start Date       |                2023-06-09 00:00:00                 |\n",
      "|         End Date        |                2023-07-10 00:00:00                 |\n",
      "|        Visibility       |                       Public                       |\n",
      "+-------------------------+----------------------------------------------------+\n"
     ]
    }
   ],
   "source": [
    "print(project)"
   ]
  },
  {
   "cell_type": "code",
   "execution_count": 5,
   "metadata": {},
   "outputs": [
    {
     "name": "stdout",
     "output_type": "stream",
     "text": [
      "+---------------------------------------------------------------------+\n",
      "|                          Resource Prep_Test                         |\n",
      "+---------------------+-----------------------------------------------+\n",
      "|       Property      |                     Value                     |\n",
      "+---------------------+-----------------------------------------------+\n",
      "|          ID         |      dc774194-5bb8-4cf0-b84e-93027adec0ea     |\n",
      "|    Resource Name    |                   Prep_Test                   |\n",
      "|     Display Name    |                   Prep_Test                   |\n",
      "|     Description     |               prep fdm_werkstatt              |\n",
      "|         PID         | 21.11102/dc774194-5bb8-4cf0-b84e-93027adec0ea |\n",
      "|         Type        |                   rdss3rwth                   |\n",
      "|     Disciplines     |              Computer Science 409             |\n",
      "|       License       |                                               |\n",
      "| Application Profile |       https://purl.org/coscine/ap/base/       |\n",
      "|       Archived      |                     False                     |\n",
      "|       Creator       |      97a7c614-0626-4a5a-bfa4-a7be2231e182     |\n",
      "|       Project       |                 FDM_Werkstatt                 |\n",
      "|      Project ID     |      ae6aa507-27fb-4e1f-84ab-16f1f4c6d320     |\n",
      "+---------------------+-----------------------------------------------+\n"
     ]
    }
   ],
   "source": [
    "print(resource)"
   ]
  },
  {
   "attachments": {},
   "cell_type": "markdown",
   "metadata": {},
   "source": [
    "Get the metadata form and take a look at it:"
   ]
  },
  {
   "cell_type": "code",
   "execution_count": 6,
   "metadata": {},
   "outputs": [
    {
     "name": "stdout",
     "output_type": "stream",
     "text": [
      "+---+----------+----------------+-------+\n",
      "| C | Type     | Property       | Value |\n",
      "+---+----------+----------------+-------+\n",
      "|   | [str]    | Title*         |       |\n",
      "|   | [str]    | Creator*       |       |\n",
      "|   | datetime | Creation Date* |       |\n",
      "| V | [str]    | Subject Area   |       |\n",
      "| V | [str]    | Type           |       |\n",
      "+---+----------+----------------+-------+\n"
     ]
    }
   ],
   "source": [
    "metadata = resource.metadata_form()\n",
    "print(metadata)"
   ]
  },
  {
   "attachments": {},
   "cell_type": "markdown",
   "metadata": {},
   "source": [
    "This form is a dictionary-like data structure, so you can interact with it like a python dictionary:"
   ]
  },
  {
   "cell_type": "code",
   "execution_count": 7,
   "metadata": {},
   "outputs": [],
   "source": [
    "metadata['Title'] = 'My fun title'"
   ]
  },
  {
   "cell_type": "code",
   "execution_count": 8,
   "metadata": {},
   "outputs": [
    {
     "ename": "ValueError",
     "evalue": "Invalid value 'this thing' for vocabulary controlled key 'Type'! Perhaps you meant ?",
     "output_type": "error",
     "traceback": [
      "\u001b[1;31m---------------------------------------------------------------------------\u001b[0m",
      "\u001b[1;31mValueError\u001b[0m                                Traceback (most recent call last)",
      "Cell \u001b[1;32mIn[8], line 1\u001b[0m\n\u001b[1;32m----> 1\u001b[0m \u001b[43mmetadata\u001b[49m\u001b[43m[\u001b[49m\u001b[38;5;124;43m'\u001b[39;49m\u001b[38;5;124;43mType\u001b[39;49m\u001b[38;5;124;43m'\u001b[39;49m\u001b[43m]\u001b[49m \u001b[38;5;241m=\u001b[39m \u001b[38;5;124m'\u001b[39m\u001b[38;5;124mthis thing\u001b[39m\u001b[38;5;124m'\u001b[39m\n",
      "File \u001b[1;32m~\\AppData\\Roaming\\Python\\Python311\\site-packages\\coscine\\form.py:443\u001b[0m, in \u001b[0;36mInputForm.__setitem__\u001b[1;34m(self, key, value)\u001b[0m\n\u001b[0;32m    <a href='file:///c%3A/Users/pj430626/AppData/Roaming/Python/Python311/site-packages/coscine/form.py?line=441'>442</a>\u001b[0m \u001b[39mdef\u001b[39;00m \u001b[39m__setitem__\u001b[39m(\u001b[39mself\u001b[39m, key: \u001b[39mstr\u001b[39m, value: Any) \u001b[39m-\u001b[39m\u001b[39m>\u001b[39m \u001b[39mNone\u001b[39;00m:\n\u001b[1;32m--> <a href='file:///c%3A/Users/pj430626/AppData/Roaming/Python/Python311/site-packages/coscine/form.py?line=442'>443</a>\u001b[0m     \u001b[39mself\u001b[39;49m\u001b[39m.\u001b[39;49mset_value(key, value)\n",
      "File \u001b[1;32m~\\AppData\\Roaming\\Python\\Python311\\site-packages\\coscine\\form.py:703\u001b[0m, in \u001b[0;36mInputForm.set_value\u001b[1;34m(self, key, value, raw)\u001b[0m\n\u001b[0;32m    <a href='file:///c%3A/Users/pj430626/AppData/Roaming/Python/Python311/site-packages/coscine/form.py?line=688'>689</a>\u001b[0m \u001b[39mdef\u001b[39;00m \u001b[39mset_value\u001b[39m(\u001b[39mself\u001b[39m, key: \u001b[39mstr\u001b[39m, value: Any, raw: \u001b[39mbool\u001b[39m \u001b[39m=\u001b[39m \u001b[39mFalse\u001b[39;00m) \u001b[39m-\u001b[39m\u001b[39m>\u001b[39m \u001b[39mNone\u001b[39;00m:\n\u001b[0;32m    <a href='file:///c%3A/Users/pj430626/AppData/Roaming/Python/Python311/site-packages/coscine/form.py?line=689'>690</a>\u001b[0m \u001b[39m    \u001b[39m\u001b[39m\"\"\"\u001b[39;00m\n\u001b[0;32m    <a href='file:///c%3A/Users/pj430626/AppData/Roaming/Python/Python311/site-packages/coscine/form.py?line=690'>691</a>\u001b[0m \u001b[39m    Sets the value for a given key.\u001b[39;00m\n\u001b[0;32m    <a href='file:///c%3A/Users/pj430626/AppData/Roaming/Python/Python311/site-packages/coscine/form.py?line=691'>692</a>\u001b[0m \n\u001b[1;32m   (...)\u001b[0m\n\u001b[0;32m    <a href='file:///c%3A/Users/pj430626/AppData/Roaming/Python/Python311/site-packages/coscine/form.py?line=700'>701</a>\u001b[0m \u001b[39m        vocabulary search or type checking on it\u001b[39;00m\n\u001b[0;32m    <a href='file:///c%3A/Users/pj430626/AppData/Roaming/Python/Python311/site-packages/coscine/form.py?line=701'>702</a>\u001b[0m \u001b[39m    \"\"\"\u001b[39;00m\n\u001b[1;32m--> <a href='file:///c%3A/Users/pj430626/AppData/Roaming/Python/Python311/site-packages/coscine/form.py?line=702'>703</a>\u001b[0m     \u001b[39mself\u001b[39m\u001b[39m.\u001b[39m_values[\u001b[39mself\u001b[39m\u001b[39m.\u001b[39mpath(key)] \u001b[39m=\u001b[39m FormValue(\u001b[39mself\u001b[39;49m, key, value, raw)\n",
      "File \u001b[1;32m~\\AppData\\Roaming\\Python\\Python311\\site-packages\\coscine\\form.py:189\u001b[0m, in \u001b[0;36mFormValue.__init__\u001b[1;34m(self, form, key, obj, raw)\u001b[0m\n\u001b[0;32m    <a href='file:///c%3A/Users/pj430626/AppData/Roaming/Python/Python311/site-packages/coscine/form.py?line=186'>187</a>\u001b[0m \u001b[39mself\u001b[39m\u001b[39m.\u001b[39m_key \u001b[39m=\u001b[39m key\n\u001b[0;32m    <a href='file:///c%3A/Users/pj430626/AppData/Roaming/Python/Python311/site-packages/coscine/form.py?line=187'>188</a>\u001b[0m \u001b[39mself\u001b[39m\u001b[39m.\u001b[39mproperties \u001b[39m=\u001b[39m form\u001b[39m.\u001b[39mproperties(key)\n\u001b[1;32m--> <a href='file:///c%3A/Users/pj430626/AppData/Roaming/Python/Python311/site-packages/coscine/form.py?line=188'>189</a>\u001b[0m \u001b[39mself\u001b[39;49m\u001b[39m.\u001b[39;49mset_value(obj, raw)\n",
      "File \u001b[1;32m~\\AppData\\Roaming\\Python\\Python311\\site-packages\\coscine\\form.py:242\u001b[0m, in \u001b[0;36mFormValue.set_value\u001b[1;34m(self, value, raw)\u001b[0m\n\u001b[0;32m    <a href='file:///c%3A/Users/pj430626/AppData/Roaming/Python/Python311/site-packages/coscine/form.py?line=227'>228</a>\u001b[0m \u001b[39m\u001b[39m\u001b[39m\"\"\"\u001b[39;00m\n\u001b[0;32m    <a href='file:///c%3A/Users/pj430626/AppData/Roaming/Python/Python311/site-packages/coscine/form.py?line=228'>229</a>\u001b[0m \u001b[39mSets the FormValue equal to the specified value.\u001b[39;00m\n\u001b[0;32m    <a href='file:///c%3A/Users/pj430626/AppData/Roaming/Python/Python311/site-packages/coscine/form.py?line=229'>230</a>\u001b[0m \n\u001b[1;32m   (...)\u001b[0m\n\u001b[0;32m    <a href='file:///c%3A/Users/pj430626/AppData/Roaming/Python/Python311/site-packages/coscine/form.py?line=238'>239</a>\u001b[0m \u001b[39m    values in Coscines internal format.\u001b[39;00m\n\u001b[0;32m    <a href='file:///c%3A/Users/pj430626/AppData/Roaming/Python/Python311/site-packages/coscine/form.py?line=239'>240</a>\u001b[0m \u001b[39m\"\"\"\u001b[39;00m\n\u001b[0;32m    <a href='file:///c%3A/Users/pj430626/AppData/Roaming/Python/Python311/site-packages/coscine/form.py?line=240'>241</a>\u001b[0m \u001b[39mif\u001b[39;00m \u001b[39mself\u001b[39m\u001b[39m.\u001b[39mproperties\u001b[39m.\u001b[39mmax_count \u001b[39m>\u001b[39m \u001b[39m1\u001b[39m:\n\u001b[1;32m--> <a href='file:///c%3A/Users/pj430626/AppData/Roaming/Python/Python311/site-packages/coscine/form.py?line=241'>242</a>\u001b[0m     \u001b[39mself\u001b[39;49m\u001b[39m.\u001b[39;49m_set_list_value(value, raw)\n\u001b[0;32m    <a href='file:///c%3A/Users/pj430626/AppData/Roaming/Python/Python311/site-packages/coscine/form.py?line=242'>243</a>\u001b[0m \u001b[39melse\u001b[39;00m:\n\u001b[0;32m    <a href='file:///c%3A/Users/pj430626/AppData/Roaming/Python/Python311/site-packages/coscine/form.py?line=243'>244</a>\u001b[0m     \u001b[39mself\u001b[39m\u001b[39m.\u001b[39m_set_scalar_value(value, raw)\n",
      "File \u001b[1;32m~\\AppData\\Roaming\\Python\\Python311\\site-packages\\coscine\\form.py:209\u001b[0m, in \u001b[0;36mFormValue._set_list_value\u001b[1;34m(self, values, raw)\u001b[0m\n\u001b[0;32m    <a href='file:///c%3A/Users/pj430626/AppData/Roaming/Python/Python311/site-packages/coscine/form.py?line=204'>205</a>\u001b[0m \u001b[39melse\u001b[39;00m:\n\u001b[0;32m    <a href='file:///c%3A/Users/pj430626/AppData/Roaming/Python/Python311/site-packages/coscine/form.py?line=205'>206</a>\u001b[0m     \u001b[39m# Let's be generous and do the conversion if scalar type to list\u001b[39;00m\n\u001b[0;32m    <a href='file:///c%3A/Users/pj430626/AppData/Roaming/Python/Python311/site-packages/coscine/form.py?line=206'>207</a>\u001b[0m     \u001b[39m# of size 1 for the users ourselves\u001b[39;00m\n\u001b[0;32m    <a href='file:///c%3A/Users/pj430626/AppData/Roaming/Python/Python311/site-packages/coscine/form.py?line=207'>208</a>\u001b[0m     \u001b[39mself\u001b[39m\u001b[39m.\u001b[39m_container \u001b[39m=\u001b[39m []\n\u001b[1;32m--> <a href='file:///c%3A/Users/pj430626/AppData/Roaming/Python/Python311/site-packages/coscine/form.py?line=208'>209</a>\u001b[0m     \u001b[39mself\u001b[39;49m\u001b[39m.\u001b[39;49mappend(values, raw)\n",
      "File \u001b[1;32m~\\AppData\\Roaming\\Python\\Python311\\site-packages\\coscine\\form.py:276\u001b[0m, in \u001b[0;36mFormValue.append\u001b[1;34m(self, value, raw)\u001b[0m\n\u001b[0;32m    <a href='file:///c%3A/Users/pj430626/AppData/Roaming/Python/Python311/site-packages/coscine/form.py?line=273'>274</a>\u001b[0m \u001b[39mif\u001b[39;00m \u001b[39mlen\u001b[39m(\u001b[39mself\u001b[39m\u001b[39m.\u001b[39m_container) \u001b[39m<\u001b[39m \u001b[39mself\u001b[39m\u001b[39m.\u001b[39mproperties\u001b[39m.\u001b[39mmax_count:\n\u001b[0;32m    <a href='file:///c%3A/Users/pj430626/AppData/Roaming/Python/Python311/site-packages/coscine/form.py?line=274'>275</a>\u001b[0m     \u001b[39mif\u001b[39;00m \u001b[39mnot\u001b[39;00m raw:\n\u001b[1;32m--> <a href='file:///c%3A/Users/pj430626/AppData/Roaming/Python/Python311/site-packages/coscine/form.py?line=275'>276</a>\u001b[0m         value \u001b[39m=\u001b[39m \u001b[39mself\u001b[39;49m\u001b[39m.\u001b[39;49m_objectify(value)\n\u001b[0;32m    <a href='file:///c%3A/Users/pj430626/AppData/Roaming/Python/Python311/site-packages/coscine/form.py?line=276'>277</a>\u001b[0m     \u001b[39mself\u001b[39m\u001b[39m.\u001b[39m_container\u001b[39m.\u001b[39mappend(value)\n\u001b[0;32m    <a href='file:///c%3A/Users/pj430626/AppData/Roaming/Python/Python311/site-packages/coscine/form.py?line=277'>278</a>\u001b[0m \u001b[39melse\u001b[39;00m:\n",
      "File \u001b[1;32m~\\AppData\\Roaming\\Python\\Python311\\site-packages\\coscine\\form.py:334\u001b[0m, in \u001b[0;36mFormValue._objectify\u001b[1;34m(self, value)\u001b[0m\n\u001b[0;32m    <a href='file:///c%3A/Users/pj430626/AppData/Roaming/Python/Python311/site-packages/coscine/form.py?line=331'>332</a>\u001b[0m     \u001b[39mif\u001b[39;00m \u001b[39mnot\u001b[39;00m \u001b[39mself\u001b[39m\u001b[39m.\u001b[39m_form\u001b[39m.\u001b[39mvocabulary(\u001b[39mself\u001b[39m\u001b[39m.\u001b[39m_key)\u001b[39m.\u001b[39mcontains(value):\n\u001b[0;32m    <a href='file:///c%3A/Users/pj430626/AppData/Roaming/Python/Python311/site-packages/coscine/form.py?line=332'>333</a>\u001b[0m         suggestions \u001b[39m=\u001b[39m \u001b[39mself\u001b[39m\u001b[39m.\u001b[39m_form\u001b[39m.\u001b[39mvocabulary(\u001b[39mself\u001b[39m\u001b[39m.\u001b[39m_key)\u001b[39m.\u001b[39msuggest(value)\n\u001b[1;32m--> <a href='file:///c%3A/Users/pj430626/AppData/Roaming/Python/Python311/site-packages/coscine/form.py?line=333'>334</a>\u001b[0m         \u001b[39mraise\u001b[39;00m \u001b[39mValueError\u001b[39;00m(\n\u001b[0;32m    <a href='file:///c%3A/Users/pj430626/AppData/Roaming/Python/Python311/site-packages/coscine/form.py?line=334'>335</a>\u001b[0m             \u001b[39mf\u001b[39m\u001b[39m\"\u001b[39m\u001b[39mInvalid value \u001b[39m\u001b[39m'\u001b[39m\u001b[39m{\u001b[39;00mvalue\u001b[39m}\u001b[39;00m\u001b[39m'\u001b[39m\u001b[39m for vocabulary \u001b[39m\u001b[39m\"\u001b[39m\n\u001b[0;32m    <a href='file:///c%3A/Users/pj430626/AppData/Roaming/Python/Python311/site-packages/coscine/form.py?line=335'>336</a>\u001b[0m             \u001b[39mf\u001b[39m\u001b[39m\"\u001b[39m\u001b[39mcontrolled key \u001b[39m\u001b[39m'\u001b[39m\u001b[39m{\u001b[39;00m\u001b[39mself\u001b[39m\u001b[39m.\u001b[39m_key\u001b[39m}\u001b[39;00m\u001b[39m'\u001b[39m\u001b[39m! \u001b[39m\u001b[39m\"\u001b[39m\n\u001b[0;32m    <a href='file:///c%3A/Users/pj430626/AppData/Roaming/Python/Python311/site-packages/coscine/form.py?line=336'>337</a>\u001b[0m             \u001b[39mf\u001b[39m\u001b[39m\"\u001b[39m\u001b[39mPerhaps you meant \u001b[39m\u001b[39m{\u001b[39;00msuggestions\u001b[39m}\u001b[39;00m\u001b[39m?\u001b[39m\u001b[39m\"\u001b[39m\n\u001b[0;32m    <a href='file:///c%3A/Users/pj430626/AppData/Roaming/Python/Python311/site-packages/coscine/form.py?line=337'>338</a>\u001b[0m         )\n\u001b[0;32m    <a href='file:///c%3A/Users/pj430626/AppData/Roaming/Python/Python311/site-packages/coscine/form.py?line=338'>339</a>\u001b[0m     \u001b[39mreturn\u001b[39;00m \u001b[39mself\u001b[39m\u001b[39m.\u001b[39m_form\u001b[39m.\u001b[39mvocabulary(\u001b[39mself\u001b[39m\u001b[39m.\u001b[39m_key)\u001b[39m.\u001b[39mlookup_key(value)\n\u001b[0;32m    <a href='file:///c%3A/Users/pj430626/AppData/Roaming/Python/Python311/site-packages/coscine/form.py?line=339'>340</a>\u001b[0m \u001b[39mif\u001b[39;00m \u001b[39mself\u001b[39m\u001b[39m.\u001b[39m_form\u001b[39m.\u001b[39mhas_selection(\u001b[39mself\u001b[39m\u001b[39m.\u001b[39m_key):\n",
      "\u001b[1;31mValueError\u001b[0m: Invalid value 'this thing' for vocabulary controlled key 'Type'! Perhaps you meant ?"
     ]
    }
   ],
   "source": [
    "metadata['Type'] = 'this thing'"
   ]
  },
  {
   "attachments": {},
   "cell_type": "markdown",
   "metadata": {},
   "source": [
    "The error is because the field is a controlled vocabulary. Let's see what is allowed:"
   ]
  },
  {
   "cell_type": "code",
   "execution_count": 9,
   "metadata": {},
   "outputs": [
    {
     "data": {
      "text/plain": [
       "['Moving Image',\n",
       " 'Sound',\n",
       " 'Collection',\n",
       " 'Dataset',\n",
       " 'Event',\n",
       " 'Image',\n",
       " 'Interactive Resource',\n",
       " 'Service',\n",
       " 'Software',\n",
       " 'Text',\n",
       " 'Physical Object',\n",
       " 'Still Image']"
      ]
     },
     "execution_count": 9,
     "metadata": {},
     "output_type": "execute_result"
    }
   ],
   "source": [
    "metadata.vocabulary('Type').keys()"
   ]
  },
  {
   "cell_type": "code",
   "execution_count": 10,
   "metadata": {},
   "outputs": [],
   "source": [
    "allowed_vals = metadata.vocabulary('Type').keys()\n"
   ]
  },
  {
   "cell_type": "code",
   "execution_count": 11,
   "metadata": {},
   "outputs": [],
   "source": [
    "metadata['Type'] = allowed_vals[9]"
   ]
  },
  {
   "cell_type": "code",
   "execution_count": 12,
   "metadata": {},
   "outputs": [
    {
     "name": "stdout",
     "output_type": "stream",
     "text": [
      "Text\n"
     ]
    }
   ],
   "source": [
    "print(metadata['Type'])"
   ]
  },
  {
   "cell_type": "code",
   "execution_count": 13,
   "metadata": {},
   "outputs": [],
   "source": [
    "allowed_vals = metadata.vocabulary('Subject Area').keys()\n"
   ]
  },
  {
   "cell_type": "code",
   "execution_count": 14,
   "metadata": {},
   "outputs": [
    {
     "name": "stdout",
     "output_type": "stream",
     "text": [
      "{0: 'Humanities and Social Sciences', 1: 'Ancient Cultures', 2: 'Prehistory', 3: 'Classical Philology', 4: 'Ancient History', 5: 'Classical Archaeology', 6: 'Egyptology and Ancient Near Eastern Studies', 7: 'History', 8: 'Medieval History', 9: 'Early Modern History', 10: 'Modern and Current History', 11: 'History of Science', 12: 'Fine Arts, Music, Theatre and Media Studies', 13: 'Art History', 14: 'Musicology', 15: 'Theatre and Media Studies', 16: 'Linguistics', 17: 'General and Comparative Linguistics, Typology, Non-European Languages', 18: 'Individual Linguistics', 19: 'Historical Linguistics', 20: 'Applied Linguistics, Experimental Linguistics, Computational Linguistics', 21: 'Literary Studies', 22: 'Medieval German Literature', 23: 'Modern German Literature', 24: 'European and American Literature', 25: 'General and Comparative Literature and Cultural Studies', 26: 'Social and Cultural Anthropology, Non-European Cultures, Jewish Studies and Religious Studies', 27: 'Social and Cultural Anthropology and Ethnology', 28: 'Asian Studies', 29: 'African, American and Oceania Studies\\xa0', 30: 'Islamic Studies, Arabian Studies, Semitic Studies', 31: 'Religious Studies and Jewish Studies', 32: 'Theology', 33: 'Protestant Theology', 34: 'Roman Catholic Theology', 35: 'Philosophy', 36: 'History of Philosophy', 37: 'Theoretical Philosophy', 38: 'Practical Philosophy', 39: 'Educational Research', 40: 'General Education and History of Education', 41: 'General and Domain-Specific Teaching and Learning', 42: 'Education Systems and Educational Institutions', 43: 'Educational Research on Socialization, Welfare and Organisations', 44: 'Psychology', 45: 'General, Biological and Mathematical Psychology', 46: 'Developmental and Educational Psychology', 47: 'Social Psychology, Industrial and Organisational Psychology', 48: 'Differential Psychology, Clinical Psychology, Medical Psychology, Methodology', 49: 'Social Sciences', 50: 'Sociological Theory', 51: 'Empirical Social Research', 52: 'Communication Sciences', 53: 'Political Science', 54: 'Economics', 55: 'Economic Theory', 56: 'Economic Policy and Public Finance', 57: 'Business Administration', 58: 'Statistics and Econometrics', 59: 'Economic and Social History', 60: 'Jurisprudence', 61: 'Principles of Law and Jurisprudence', 62: 'Private Law', 63: 'Public Law', 64: 'Criminal Law and Law of Criminal Procedure', 65: 'Criminology', 66: 'Life Sciences', 67: 'Basic Research in Biology and Medicine', 68: 'Biochemistry', 69: 'Biophysics', 70: 'Cell Biology', 71: 'Structural Biology', 72: 'General Genetics', 73: 'Developmental Biology', 74: 'Bioinformatics and Theoretical Biology', 75: 'Anatomy', 76: 'Plant Sciences', 77: 'Evolution and Systematics of Plants and Fungi', 78: 'Plant Ecology and Ecosystem Analysis', 79: 'Inter-Organismic Interactions and Chemical Ecology of Plant Systems', 80: 'Plant Physiology', 81: 'Plant Biochemistry and Biophysics', 82: 'Plant Cell and Developmental Biology', 83: 'Plant Genetics', 84: 'Zoology', 85: 'Special Zoology and Morphology', 86: 'Evolution, Anthropology', 87: 'Animal Ecology, Biodiversity and Ecosystem Research', 88: 'Sensory and Behavioural Biology', 89: 'Biochemistry and Animal Physiology', 90: 'Evolutionary Cell and Developmental Biology (Zoology)', 91: 'Microbiology, Virology and Immunology', 92: 'Metabolism, Biochemistry and Genetics of Microorganisms', 93: 'Microbial Ecology and Applied Microbiology', 94: 'Medical Microbiology, Parasitology, Medical Mycology and Hygiene, Molecular Infection Biology', 95: 'Virology', 96: 'Immunology', 97: 'Medicine', 98: 'Epidemiology, Medical Biometry, Medical Informatics', 99: 'Public Health, Health Services Research, Social Medicine', 100: 'Human Genetics', 101: 'Physiology', 102: 'Nutritional Sciences', 103: 'Pathology', 104: 'Clinical Chemistry and Pathobiochemistry', 105: 'Pharmacy', 106: 'Pharmacology', 107: 'Toxicology, Occupational Medicine and Forensic Medicine', 108: 'Anaesthesiology', 109: 'Cardiology, Angiology', 110: 'Pneumology, Clinical Infectiology', 111: 'Hematology, Oncology, Transfusion Medicine', 112: 'Gastroenterology, Metabolism', 113: 'Nephrology', 114: 'Endocrinology, Diabetology', 115: 'Rheumatology, Clinical Immunology, Allergology', 116: 'Dermatology', 117: 'Pediatric and Adolescent Medicine', 118: 'Gynaecology and Obstetrics', 119: 'Reproductive Medicine/Biology', 120: 'Urology', 121: 'Biogerontology and Geriatric Medicine', 122: 'General and Visceral Surgery', 123: 'Cardiothoracic and Vascular Surgery', 124: 'Traumatology and Orthopaedics', 125: 'Dentistry, Oral Surgery', 126: 'Otolaryngology', 127: 'Radiology and Nuclear Medicine', 128: 'Radiation Oncology and Radiobiology', 129: 'Biomedical Technology and Medical Physics', 130: 'Neurosciences', 131: 'Molecular Neuroscience and Neurogenetics', 132: 'Cellular Neuroscience', 133: 'Developmental Neurobiology', 134: 'Systemic Neuroscience, Computational Neuroscience, Behaviour', 135: 'Organismic Neurobiology', 136: 'Cognitive Neuroscience', 137: 'Molecular and Cellular Neurology, Neuropathology', 138: 'Clinical Neurosciences I - Neurology, Neurosurgery, Neuroradiology', 139: 'Biological and Molecular Psychiatry', 140: 'Clinical Neurosciences II - Psychiatry, Psychotherapy, Child and Adolescent Psychiatry', 141: 'Clinical Neurosciences III - Ophthalmology', 142: 'Agriculture, Forestry and Veterinary Medicine', 143: 'Soil Sciences', 144: 'Plant Cultivation and Agricultural Technology', 145: 'Plant Nutrition', 146: 'Ecology of Agricultural Landscapes', 147: 'Plant Breeding', 148: 'Phytomedicine', 149: 'Agricultural Economics and Sociology', 150: 'Forestry', 151: 'Animal Husbandry, Breeding and Hygiene', 152: 'Animal Nutrition and Nutrition Physiology', 153: 'Basic Veterinary Medical Science', 154: 'Basic Research on Pathogenesis, Diagnostics and Therapy and Clinical Veterinary Medicine', 155: 'Natural Sciences', 156: 'Molecular Chemistry', 157: 'Inorganic Molecular Chemistry', 158: 'Organic Molecular Chemistry', 159: 'Chemical Solid State and Surface Research', 160: 'Solid State and Surface Chemistry, Material Synthesis', 161: 'Physical Chemistry of Solids and Surfaces, Material Characterisation', 162: 'Theory and Modelling', 163: 'Physical and Theoretical Chemistry', 164: 'Physical Chemistry of Molecules, Interfaces and Liquids - Spectroscopy, Kinetics', 165: 'General Theoretical Chemistry', 166: 'Analytical Chemistry, Method Development (Chemistry)', 167: 'Analytical Chemistry, Method Development (Chemistry)', 168: 'Biological Chemistry and Food Chemistry', 169: 'Biological and Biomimetic Chemistry', 170: 'Food Chemistry', 171: 'Polymer Research', 172: 'Preparatory and Physical Chemistry of Polymers', 173: 'Experimental and Theoretical Physics of Polymers', 174: 'Polymer Materials', 175: 'Condensed Matter Physics', 176: 'Experimental Condensed Matter Physics', 177: 'Theoretical Condensed Matter Physics', 178: 'Optics, Quantum Optics and Physics of Atoms, Molecules and Plasmas', 179: 'Optics, Quantum Optics, Atoms, Molecules, Plasmas', 180: 'Particles, Nuclei and Fields', 181: 'Particles, Nuclei and Fields', 182: 'Statistical Physics, Soft Matter, Biological Physics, Nonlinear Dynamics', 183: 'Statistical Physics, Soft Matter, Biological Physics, Nonlinear Dynamics', 184: 'Astrophysics and Astronomy', 185: 'Astrophysics and Astronomy', 186: 'Mathematics', 187: 'Mathematics', 188: 'Atmospheric Science, Oceanography and Climate Research', 189: 'Atmospheric Science', 190: 'Oceanography', 191: 'Geology and Palaeontology', 192: 'Geology and Palaeontology', 193: 'Geophysics and Geodesy', 194: 'Geophysics', 195: 'Geodesy, Photogrammetry, Remote Sensing, Geoinformatics, Cartography', 196: 'Geochemistry, Mineralogy and Crystallography', 197: 'Geochemistry, Mineralogy and Crystallography', 198: 'Geography', 199: 'Physical Geography', 200: 'Human Geography', 201: 'Water Research', 202: 'Hydrogeology, Hydrology, Limnology, Urban Water Management, Water Chemistry, Integrated Water Resources Management\\xa0', 203: 'Engineering Sciences', 204: 'Production Technology', 205: 'Metal-Cutting Manufacturing Engineering', 206: 'Primary Shaping and Reshaping Technology', 207: 'Joining, Mounting and Separation Technology', 208: 'Plastics Engineering', 209: 'Production Management and Operations Management', 210: 'Machine Tools and Production Automation', 211: 'Mechanics and Constructive Mechanical Engineering', 212: 'Engineering Design, Machine Elements, Product Development', 213: 'Mechanics', 214: 'Lightweight Construction, Textile Technology', 215: 'Acoustics', 216: 'Process Engineering, Technical Chemistry', 217: 'Chemical and Thermal Process Engineering', 218: 'Technical Chemistry', 219: 'Mechanical Process Engineering', 220: 'Biological Process Engineering', 221: 'Heat Energy Technology, Thermal Machines, Fluid Mechanics', 222: 'Energy Process Engineering', 223: 'Technical Thermodynamics', 224: 'Fluid Mechanics', 225: 'Hydraulic and Turbo Engines and Piston Engines', 226: 'Materials Engineering', 227: 'Metallurgical and Thermal Processes, Thermomechanical Treatment of Materials', 228: 'Sintered Metallic and Ceramic Materials', 229: 'Composite Materials', 230: 'Mechanical Behaviour of Construction Materials', 231: 'Coating and Surface Technology', 232: 'Materials Science', 233: 'Thermodynamics and Kinetics of Materials', 234: 'Synthesis and Properties of Functional Materials', 235: 'Microstructural Mechanical Properties of Materials', 236: 'Structuring and Functionalisation', 237: 'Biomaterials', 238: 'Systems Engineering', 239: 'Automation, Control Systems, Robotics, Mechatronics, Cyber Physical Systems', 240: 'Measurement Systems', 241: 'Microsystems', 242: 'Traffic and Transport Systems, Logistics, Intelligent and Automated Traffic', 243: 'Human Factors, Ergonomics, Human-Machine Systems', 244: 'Biomedical Systems Technology', 245: 'Electrical Engineering and Information Technology', 246: 'Electronic Semiconductors, Components, Circuits, Systems', 247: 'Communications, High-Frequency and Network Technology, Theoretical Electrical Engineering', 248: 'Electrical Energy Generation, Distribution, Application', 249: 'Computer Science', 250: 'Theoretical Computer Science', 251: 'Software Engineering and Programming Languages', 252: 'Security and Dependability', 253: 'Operating, Communication, Database and Distributed Systems', 254: 'Interactive and Intelligent Systems, Image and Language Processing, Computer Graphics and Visualisation', 255: 'Information Systems, Process and Knowledge Management', 256: 'Computer Architecture and Embedded Systems', 257: 'Massively Parallel and Data-Intensive Systems', 258: 'Construction Engineering and Architecture', 259: 'Architecture, Building and Construction History, Construction Research, Sustainable Building Technology', 260: 'Urbanism, Spatial Planning, Transportation and Infrastructure Planning, Landscape Planning', 261: 'Construction Material Sciences, Chemistry, Building Physics', 262: 'Structural Engineering, Building Informatics and Construction Operation', 263: 'Applied Mechanics, Statics and Dynamics', 264: 'Geotechnics, Hydraulic Engineering'}\n"
     ]
    }
   ],
   "source": [
    "controlled_vocab = {}\n",
    "for i, val in enumerate(allowed_vals):\n",
    "    controlled_vocab[i] = val\n",
    "\n",
    "print(controlled_vocab)"
   ]
  },
  {
   "cell_type": "code",
   "execution_count": 15,
   "metadata": {},
   "outputs": [],
   "source": [
    "selection = input(f'enter value by selecting the respective number {controlled_vocab}')\n",
    "metadata['Subject Area'] = controlled_vocab[int(selection)]"
   ]
  },
  {
   "cell_type": "code",
   "execution_count": 16,
   "metadata": {},
   "outputs": [
    {
     "name": "stdout",
     "output_type": "stream",
     "text": [
      "+---+----------+----------------+--------------+\n",
      "| C | Type     | Property       | Value        |\n",
      "+---+----------+----------------+--------------+\n",
      "|   | [str]    | Title*         | My fun title |\n",
      "|   | [str]    | Creator*       |              |\n",
      "|   | datetime | Creation Date* |              |\n",
      "| V | [str]    | Subject Area   | Prehistory   |\n",
      "| V | [str]    | Type           | Text         |\n",
      "+---+----------+----------------+--------------+\n"
     ]
    }
   ],
   "source": [
    "print(metadata)"
   ]
  },
  {
   "attachments": {},
   "cell_type": "markdown",
   "metadata": {},
   "source": [
    "Let's deal with the date. It needs to be formatted as a datetime object:"
   ]
  },
  {
   "cell_type": "code",
   "execution_count": 17,
   "metadata": {},
   "outputs": [
    {
     "data": {
      "text/plain": [
       "str"
      ]
     },
     "execution_count": 17,
     "metadata": {},
     "output_type": "execute_result"
    }
   ],
   "source": [
    "date = '2023-06-09'\n",
    "type(date)"
   ]
  },
  {
   "cell_type": "code",
   "execution_count": 18,
   "metadata": {},
   "outputs": [
    {
     "ename": "TypeError",
     "evalue": "Value of type <class 'str'> specified for key Creation Date does not match expected type <class 'datetime.datetime'>!",
     "output_type": "error",
     "traceback": [
      "\u001b[1;31m---------------------------------------------------------------------------\u001b[0m",
      "\u001b[1;31mTypeError\u001b[0m                                 Traceback (most recent call last)",
      "Cell \u001b[1;32mIn[18], line 1\u001b[0m\n\u001b[1;32m----> 1\u001b[0m \u001b[43mmetadata\u001b[49m\u001b[43m[\u001b[49m\u001b[38;5;124;43m'\u001b[39;49m\u001b[38;5;124;43mCreation Date\u001b[39;49m\u001b[38;5;124;43m'\u001b[39;49m\u001b[43m]\u001b[49m \u001b[38;5;241m=\u001b[39m date\n",
      "File \u001b[1;32m~\\AppData\\Roaming\\Python\\Python311\\site-packages\\coscine\\form.py:443\u001b[0m, in \u001b[0;36mInputForm.__setitem__\u001b[1;34m(self, key, value)\u001b[0m\n\u001b[0;32m    <a href='file:///c%3A/Users/pj430626/AppData/Roaming/Python/Python311/site-packages/coscine/form.py?line=441'>442</a>\u001b[0m \u001b[39mdef\u001b[39;00m \u001b[39m__setitem__\u001b[39m(\u001b[39mself\u001b[39m, key: \u001b[39mstr\u001b[39m, value: Any) \u001b[39m-\u001b[39m\u001b[39m>\u001b[39m \u001b[39mNone\u001b[39;00m:\n\u001b[1;32m--> <a href='file:///c%3A/Users/pj430626/AppData/Roaming/Python/Python311/site-packages/coscine/form.py?line=442'>443</a>\u001b[0m     \u001b[39mself\u001b[39;49m\u001b[39m.\u001b[39;49mset_value(key, value)\n",
      "File \u001b[1;32m~\\AppData\\Roaming\\Python\\Python311\\site-packages\\coscine\\form.py:703\u001b[0m, in \u001b[0;36mInputForm.set_value\u001b[1;34m(self, key, value, raw)\u001b[0m\n\u001b[0;32m    <a href='file:///c%3A/Users/pj430626/AppData/Roaming/Python/Python311/site-packages/coscine/form.py?line=688'>689</a>\u001b[0m \u001b[39mdef\u001b[39;00m \u001b[39mset_value\u001b[39m(\u001b[39mself\u001b[39m, key: \u001b[39mstr\u001b[39m, value: Any, raw: \u001b[39mbool\u001b[39m \u001b[39m=\u001b[39m \u001b[39mFalse\u001b[39;00m) \u001b[39m-\u001b[39m\u001b[39m>\u001b[39m \u001b[39mNone\u001b[39;00m:\n\u001b[0;32m    <a href='file:///c%3A/Users/pj430626/AppData/Roaming/Python/Python311/site-packages/coscine/form.py?line=689'>690</a>\u001b[0m \u001b[39m    \u001b[39m\u001b[39m\"\"\"\u001b[39;00m\n\u001b[0;32m    <a href='file:///c%3A/Users/pj430626/AppData/Roaming/Python/Python311/site-packages/coscine/form.py?line=690'>691</a>\u001b[0m \u001b[39m    Sets the value for a given key.\u001b[39;00m\n\u001b[0;32m    <a href='file:///c%3A/Users/pj430626/AppData/Roaming/Python/Python311/site-packages/coscine/form.py?line=691'>692</a>\u001b[0m \n\u001b[1;32m   (...)\u001b[0m\n\u001b[0;32m    <a href='file:///c%3A/Users/pj430626/AppData/Roaming/Python/Python311/site-packages/coscine/form.py?line=700'>701</a>\u001b[0m \u001b[39m        vocabulary search or type checking on it\u001b[39;00m\n\u001b[0;32m    <a href='file:///c%3A/Users/pj430626/AppData/Roaming/Python/Python311/site-packages/coscine/form.py?line=701'>702</a>\u001b[0m \u001b[39m    \"\"\"\u001b[39;00m\n\u001b[1;32m--> <a href='file:///c%3A/Users/pj430626/AppData/Roaming/Python/Python311/site-packages/coscine/form.py?line=702'>703</a>\u001b[0m     \u001b[39mself\u001b[39m\u001b[39m.\u001b[39m_values[\u001b[39mself\u001b[39m\u001b[39m.\u001b[39mpath(key)] \u001b[39m=\u001b[39m FormValue(\u001b[39mself\u001b[39;49m, key, value, raw)\n",
      "File \u001b[1;32m~\\AppData\\Roaming\\Python\\Python311\\site-packages\\coscine\\form.py:189\u001b[0m, in \u001b[0;36mFormValue.__init__\u001b[1;34m(self, form, key, obj, raw)\u001b[0m\n\u001b[0;32m    <a href='file:///c%3A/Users/pj430626/AppData/Roaming/Python/Python311/site-packages/coscine/form.py?line=186'>187</a>\u001b[0m \u001b[39mself\u001b[39m\u001b[39m.\u001b[39m_key \u001b[39m=\u001b[39m key\n\u001b[0;32m    <a href='file:///c%3A/Users/pj430626/AppData/Roaming/Python/Python311/site-packages/coscine/form.py?line=187'>188</a>\u001b[0m \u001b[39mself\u001b[39m\u001b[39m.\u001b[39mproperties \u001b[39m=\u001b[39m form\u001b[39m.\u001b[39mproperties(key)\n\u001b[1;32m--> <a href='file:///c%3A/Users/pj430626/AppData/Roaming/Python/Python311/site-packages/coscine/form.py?line=188'>189</a>\u001b[0m \u001b[39mself\u001b[39;49m\u001b[39m.\u001b[39;49mset_value(obj, raw)\n",
      "File \u001b[1;32m~\\AppData\\Roaming\\Python\\Python311\\site-packages\\coscine\\form.py:244\u001b[0m, in \u001b[0;36mFormValue.set_value\u001b[1;34m(self, value, raw)\u001b[0m\n\u001b[0;32m    <a href='file:///c%3A/Users/pj430626/AppData/Roaming/Python/Python311/site-packages/coscine/form.py?line=241'>242</a>\u001b[0m     \u001b[39mself\u001b[39m\u001b[39m.\u001b[39m_set_list_value(value, raw)\n\u001b[0;32m    <a href='file:///c%3A/Users/pj430626/AppData/Roaming/Python/Python311/site-packages/coscine/form.py?line=242'>243</a>\u001b[0m \u001b[39melse\u001b[39;00m:\n\u001b[1;32m--> <a href='file:///c%3A/Users/pj430626/AppData/Roaming/Python/Python311/site-packages/coscine/form.py?line=243'>244</a>\u001b[0m     \u001b[39mself\u001b[39;49m\u001b[39m.\u001b[39;49m_set_scalar_value(value, raw)\n",
      "File \u001b[1;32m~\\AppData\\Roaming\\Python\\Python311\\site-packages\\coscine\\form.py:223\u001b[0m, in \u001b[0;36mFormValue._set_scalar_value\u001b[1;34m(self, value, raw)\u001b[0m\n\u001b[0;32m    <a href='file:///c%3A/Users/pj430626/AppData/Roaming/Python/Python311/site-packages/coscine/form.py?line=217'>218</a>\u001b[0m         \u001b[39mraise\u001b[39;00m \u001b[39mTypeError\u001b[39;00m(\n\u001b[0;32m    <a href='file:///c%3A/Users/pj430626/AppData/Roaming/Python/Python311/site-packages/coscine/form.py?line=218'>219</a>\u001b[0m             \u001b[39m\"\u001b[39m\u001b[39mDid not expect list type exceeding \u001b[39m\u001b[39m\"\u001b[39m\n\u001b[0;32m    <a href='file:///c%3A/Users/pj430626/AppData/Roaming/Python/Python311/site-packages/coscine/form.py?line=219'>220</a>\u001b[0m             \u001b[39mf\u001b[39m\u001b[39m\"\u001b[39m\u001b[39mMaxValues property for key \u001b[39m\u001b[39m'\u001b[39m\u001b[39m{\u001b[39;00m\u001b[39mself\u001b[39m\u001b[39m.\u001b[39m_key\u001b[39m}\u001b[39;00m\u001b[39m'\u001b[39m\u001b[39m.\u001b[39m\u001b[39m\"\u001b[39m\n\u001b[0;32m    <a href='file:///c%3A/Users/pj430626/AppData/Roaming/Python/Python311/site-packages/coscine/form.py?line=220'>221</a>\u001b[0m         )\n\u001b[0;32m    <a href='file:///c%3A/Users/pj430626/AppData/Roaming/Python/Python311/site-packages/coscine/form.py?line=221'>222</a>\u001b[0m     value \u001b[39m=\u001b[39m value[\u001b[39m0\u001b[39m]\n\u001b[1;32m--> <a href='file:///c%3A/Users/pj430626/AppData/Roaming/Python/Python311/site-packages/coscine/form.py?line=222'>223</a>\u001b[0m \u001b[39mself\u001b[39m\u001b[39m.\u001b[39m_container \u001b[39m=\u001b[39m value \u001b[39mif\u001b[39;00m raw \u001b[39melse\u001b[39;00m \u001b[39mself\u001b[39;49m\u001b[39m.\u001b[39;49m_objectify(value)\n",
      "File \u001b[1;32m~\\AppData\\Roaming\\Python\\Python311\\site-packages\\coscine\\form.py:325\u001b[0m, in \u001b[0;36mFormValue._objectify\u001b[1;34m(self, value)\u001b[0m\n\u001b[0;32m    <a href='file:///c%3A/Users/pj430626/AppData/Roaming/Python/Python311/site-packages/coscine/form.py?line=321'>322</a>\u001b[0m     \u001b[39mreturn\u001b[39;00m \u001b[39mNone\u001b[39;00m\n\u001b[0;32m    <a href='file:///c%3A/Users/pj430626/AppData/Roaming/Python/Python311/site-packages/coscine/form.py?line=323'>324</a>\u001b[0m \u001b[39mif\u001b[39;00m \u001b[39mnot\u001b[39;00m \u001b[39mself\u001b[39m\u001b[39m.\u001b[39m_is_valid_type(\u001b[39mself\u001b[39m\u001b[39m.\u001b[39m_key, value):\n\u001b[1;32m--> <a href='file:///c%3A/Users/pj430626/AppData/Roaming/Python/Python311/site-packages/coscine/form.py?line=324'>325</a>\u001b[0m     \u001b[39mraise\u001b[39;00m \u001b[39mTypeError\u001b[39;00m(\n\u001b[0;32m    <a href='file:///c%3A/Users/pj430626/AppData/Roaming/Python/Python311/site-packages/coscine/form.py?line=325'>326</a>\u001b[0m         \u001b[39mf\u001b[39m\u001b[39m\"\u001b[39m\u001b[39mValue of type \u001b[39m\u001b[39m{\u001b[39;00m\u001b[39mstr\u001b[39m(\u001b[39mtype\u001b[39m(value))\u001b[39m}\u001b[39;00m\u001b[39m specified \u001b[39m\u001b[39m\"\u001b[39m\n\u001b[0;32m    <a href='file:///c%3A/Users/pj430626/AppData/Roaming/Python/Python311/site-packages/coscine/form.py?line=326'>327</a>\u001b[0m         \u001b[39mf\u001b[39m\u001b[39m\"\u001b[39m\u001b[39mfor key \u001b[39m\u001b[39m{\u001b[39;00m\u001b[39mself\u001b[39m\u001b[39m.\u001b[39m_key\u001b[39m}\u001b[39;00m\u001b[39m does not match expected \u001b[39m\u001b[39m\"\u001b[39m\n\u001b[0;32m    <a href='file:///c%3A/Users/pj430626/AppData/Roaming/Python/Python311/site-packages/coscine/form.py?line=327'>328</a>\u001b[0m         \u001b[39mf\u001b[39m\u001b[39m\"\u001b[39m\u001b[39mtype \u001b[39m\u001b[39m{\u001b[39;00m\u001b[39mself\u001b[39m\u001b[39m.\u001b[39m_form\u001b[39m.\u001b[39mdatatype(\u001b[39mself\u001b[39m\u001b[39m.\u001b[39m_key)\u001b[39m}\u001b[39;00m\u001b[39m!\u001b[39m\u001b[39m\"\u001b[39m\n\u001b[0;32m    <a href='file:///c%3A/Users/pj430626/AppData/Roaming/Python/Python311/site-packages/coscine/form.py?line=328'>329</a>\u001b[0m     )\n\u001b[0;32m    <a href='file:///c%3A/Users/pj430626/AppData/Roaming/Python/Python311/site-packages/coscine/form.py?line=330'>331</a>\u001b[0m \u001b[39mif\u001b[39;00m \u001b[39mself\u001b[39m\u001b[39m.\u001b[39m_form\u001b[39m.\u001b[39mhas_vocabulary(\u001b[39mself\u001b[39m\u001b[39m.\u001b[39m_key):\n\u001b[0;32m    <a href='file:///c%3A/Users/pj430626/AppData/Roaming/Python/Python311/site-packages/coscine/form.py?line=331'>332</a>\u001b[0m     \u001b[39mif\u001b[39;00m \u001b[39mnot\u001b[39;00m \u001b[39mself\u001b[39m\u001b[39m.\u001b[39m_form\u001b[39m.\u001b[39mvocabulary(\u001b[39mself\u001b[39m\u001b[39m.\u001b[39m_key)\u001b[39m.\u001b[39mcontains(value):\n",
      "\u001b[1;31mTypeError\u001b[0m: Value of type <class 'str'> specified for key Creation Date does not match expected type <class 'datetime.datetime'>!"
     ]
    }
   ],
   "source": [
    "metadata['Creation Date'] = date"
   ]
  },
  {
   "cell_type": "code",
   "execution_count": 19,
   "metadata": {},
   "outputs": [],
   "source": [
    "metadata['Creation Date'] = datetime.strptime(date, '%Y-%m-%d')"
   ]
  },
  {
   "cell_type": "code",
   "execution_count": 20,
   "metadata": {},
   "outputs": [
    {
     "name": "stdout",
     "output_type": "stream",
     "text": [
      "+---+----------+----------------+--------------+\n",
      "| C | Type     | Property       | Value        |\n",
      "+---+----------+----------------+--------------+\n",
      "|   | [str]    | Title*         | My fun title |\n",
      "|   | [str]    | Creator*       |              |\n",
      "|   | datetime | Creation Date* | 2023-06-09   |\n",
      "| V | [str]    | Subject Area   | Prehistory   |\n",
      "| V | [str]    | Type           | Text         |\n",
      "+---+----------+----------------+--------------+\n"
     ]
    }
   ],
   "source": [
    "print(metadata)"
   ]
  },
  {
   "attachments": {},
   "cell_type": "markdown",
   "metadata": {},
   "source": [
    "We're still missing `Creator`. Depending on the properties set to each field in the application profile, we can enter multiple values. For example, the `Creator` field takes a vlue of type `[str]`, indicating that a list of strings may be entered. Let's add multiple creators:  "
   ]
  },
  {
   "cell_type": "code",
   "execution_count": 21,
   "metadata": {},
   "outputs": [],
   "source": [
    "metadata['Creator'] = ['Cat', 'Nikki']"
   ]
  },
  {
   "cell_type": "code",
   "execution_count": 22,
   "metadata": {},
   "outputs": [
    {
     "name": "stdout",
     "output_type": "stream",
     "text": [
      "+---+----------+----------------+--------------+\n",
      "| C | Type     | Property       | Value        |\n",
      "+---+----------+----------------+--------------+\n",
      "|   | [str]    | Title*         | My fun title |\n",
      "|   | [str]    | Creator*       | Cat,Nikki    |\n",
      "|   | datetime | Creation Date* | 2023-06-09   |\n",
      "| V | [str]    | Subject Area   | Prehistory   |\n",
      "| V | [str]    | Type           | Text         |\n",
      "+---+----------+----------------+--------------+\n"
     ]
    }
   ],
   "source": [
    "print(metadata)"
   ]
  },
  {
   "attachments": {},
   "cell_type": "markdown",
   "metadata": {},
   "source": [
    "Now we upload the metadata and the data. We'll just use a dummy text file here called `myData.txt`."
   ]
  },
  {
   "cell_type": "code",
   "execution_count": 24,
   "metadata": {},
   "outputs": [
    {
     "name": "stderr",
     "output_type": "stream",
     "text": [
      "myData.txt: 100%|##########| 231/231 [00:00<00:00, 272B/s]  \n"
     ]
    }
   ],
   "source": [
    "file_loc = \"data/myData.txt\"# local file path\n",
    "file_name = \"myData.txt\" # file name in coscine\n",
    "resource.upload(file_name, file_loc, metadata)"
   ]
  },
  {
   "attachments": {},
   "cell_type": "markdown",
   "metadata": {},
   "source": [
    "If you were working with a nested directory structure or larger data, you'd want to use the S3 credentials to interact with the resource via s3 protocol. \n",
    "\n",
    "We can get these using the API:"
   ]
  },
  {
   "cell_type": "code",
   "execution_count": 27,
   "metadata": {},
   "outputs": [],
   "source": [
    "access_key: str = resource.s3.write_access_key\n",
    "secret_key: str = resource.s3.write_secret_key\n",
    "endpoint: str = resource.s3.endpoint\n",
    "bucket: str = resource.s3.bucket"
   ]
  },
  {
   "attachments": {},
   "cell_type": "markdown",
   "metadata": {},
   "source": [
    "This let's us make directories:"
   ]
  },
  {
   "cell_type": "code",
   "execution_count": 41,
   "metadata": {},
   "outputs": [],
   "source": [
    "resource.s3.mkdir(\"myDir/\")"
   ]
  },
  {
   "attachments": {},
   "cell_type": "markdown",
   "metadata": {},
   "source": [
    "And upload files to a directory:"
   ]
  },
  {
   "cell_type": "code",
   "execution_count": 43,
   "metadata": {},
   "outputs": [
    {
     "data": {
      "application/vnd.jupyter.widget-view+json": {
       "model_id": "ae8027aeb222473f85353f661f041d06",
       "version_major": 2,
       "version_minor": 0
      },
      "text/plain": [
       "myDir/s3_test.txt:   0%|          | 0.00/19.0 [00:00<?, ?B/s]"
      ]
     },
     "metadata": {},
     "output_type": "display_data"
    }
   ],
   "source": [
    "resource.s3.upload(\"myDir/s3_test.txt\", \"s3_test.txt\")"
   ]
  },
  {
   "attachments": {},
   "cell_type": "markdown",
   "metadata": {},
   "source": [
    "We cannot add metadata via S3, so we use the API to update the metadata:"
   ]
  },
  {
   "cell_type": "code",
   "execution_count": 28,
   "metadata": {},
   "outputs": [],
   "source": [
    "obj = resource.object('myDir/s3_test.txt')"
   ]
  },
  {
   "cell_type": "code",
   "execution_count": 29,
   "metadata": {},
   "outputs": [
    {
     "name": "stdout",
     "output_type": "stream",
     "text": [
      "+------------------------------+\n",
      "|      Object s3_test.txt      |\n",
      "+----------+-------------------+\n",
      "| Property |       Value       |\n",
      "+----------+-------------------+\n",
      "|   Name   |    s3_test.txt    |\n",
      "|   Size   |       19.0 B      |\n",
      "|   Type   |        file       |\n",
      "|   Path   | myDir/s3_test.txt |\n",
      "|  Folder  |       False       |\n",
      "+----------+-------------------+\n"
     ]
    }
   ],
   "source": [
    "print(obj)"
   ]
  },
  {
   "cell_type": "code",
   "execution_count": 30,
   "metadata": {},
   "outputs": [],
   "source": [
    "obj.update(metadata)"
   ]
  },
  {
   "attachments": {},
   "cell_type": "markdown",
   "metadata": {},
   "source": [
    "Let's add metadata to the folder as well:"
   ]
  },
  {
   "cell_type": "code",
   "execution_count": 40,
   "metadata": {},
   "outputs": [
    {
     "name": "stdout",
     "output_type": "stream",
     "text": [
      "+-------------------+\n",
      "|    Object myDir   |\n",
      "+----------+--------+\n",
      "| Property | Value  |\n",
      "+----------+--------+\n",
      "|   Name   | myDir  |\n",
      "|   Size   | 0.0 B  |\n",
      "|   Type   | folder |\n",
      "|   Path   | myDir/ |\n",
      "|  Folder  |  True  |\n",
      "+----------+--------+\n"
     ]
    }
   ],
   "source": [
    "folder = resource.object('myDir/')\n",
    "print(folder)"
   ]
  },
  {
   "cell_type": "code",
   "execution_count": 32,
   "metadata": {},
   "outputs": [],
   "source": [
    "folder.update(metadata)"
   ]
  },
  {
   "cell_type": "code",
   "execution_count": 37,
   "metadata": {},
   "outputs": [
    {
     "name": "stdout",
     "output_type": "stream",
     "text": [
      "+---+----------+----------------+--------------+\n",
      "| C | Type     | Property       | Value        |\n",
      "+---+----------+----------------+--------------+\n",
      "|   | [str]    | Title*         | My fun title |\n",
      "|   | [str]    | Creator*       | Cat,Nikki    |\n",
      "|   | datetime | Creation Date* | 2023-06-09   |\n",
      "| V | [str]    | Subject Area   | Prehistory   |\n",
      "| V | [str]    | Type           | Text         |\n",
      "+---+----------+----------------+--------------+\n"
     ]
    }
   ],
   "source": [
    "if folder.has_metadata:\n",
    "    print(folder.form())"
   ]
  },
  {
   "attachments": {},
   "cell_type": "markdown",
   "metadata": {},
   "source": [
    "## Let's get fancier and extract metadata from a file"
   ]
  },
  {
   "cell_type": "markdown",
   "metadata": {},
   "source": [
    "Let's try getting some metadata out of a TIFF image file. For this we use the PIlö"
   ]
  },
  {
   "cell_type": "code",
   "execution_count": null,
   "metadata": {},
   "outputs": [],
   "source": [
    "from PIL import Image\n",
    "from PIL.TiffTags import TAGS\n",
    "\n",
    "with Image.open('image.tif') as img:\n",
    "    meta_dict = {TAGS[key] : img.tag[key] for key in img.tag.iterkeys()}"
   ]
  },
  {
   "attachments": {},
   "cell_type": "markdown",
   "metadata": {},
   "source": [
    "We'll work with flow cytometry - Fluorescence Activated Cell Sorting (FACS) data. \n",
    "\n",
    "For this we need the `FlowKit module:"
   ]
  },
  {
   "cell_type": "code",
   "execution_count": 45,
   "metadata": {},
   "outputs": [
    {
     "name": "stdout",
     "output_type": "stream",
     "text": [
      "Defaulting to user installation because normal site-packages is not writeable\n",
      "Collecting FlowKit\n",
      "  Using cached FlowKit-1.0.1.tar.gz (88 kB)\n",
      "  Installing build dependencies: started\n",
      "  Installing build dependencies: finished with status 'done'\n",
      "  Getting requirements to build wheel: started\n",
      "  Getting requirements to build wheel: finished with status 'done'\n",
      "  Preparing metadata (pyproject.toml): started\n",
      "  Preparing metadata (pyproject.toml): finished with status 'done'\n",
      "Collecting anytree>=2.6 (from FlowKit)\n",
      "  Using cached anytree-2.8.0-py2.py3-none-any.whl (41 kB)\n",
      "Collecting bokeh<3,>=2.4 (from FlowKit)\n",
      "  Using cached bokeh-2.4.3-py3-none-any.whl (18.5 MB)\n",
      "Collecting flowio==1.1.1 (from FlowKit)\n",
      "  Using cached FlowIO-1.1.1.tar.gz (14 kB)\n",
      "  Installing build dependencies: started\n",
      "  Installing build dependencies: finished with status 'done'\n",
      "  Getting requirements to build wheel: started\n",
      "  Getting requirements to build wheel: finished with status 'done'\n",
      "  Preparing metadata (pyproject.toml): started\n",
      "  Preparing metadata (pyproject.toml): finished with status 'done'\n",
      "Collecting flowutils<1.1,>=1 (from FlowKit)\n",
      "  Using cached FlowUtils-1.0.0.tar.gz (14 kB)\n",
      "  Installing build dependencies: started\n",
      "  Installing build dependencies: finished with status 'done'\n",
      "  Getting requirements to build wheel: started\n",
      "  Getting requirements to build wheel: finished with status 'error'\n",
      "Note: you may need to restart the kernel to use updated packages.\n"
     ]
    },
    {
     "name": "stderr",
     "output_type": "stream",
     "text": [
      "  error: subprocess-exited-with-error\n",
      "  \n",
      "  × Getting requirements to build wheel did not run successfully.\n",
      "  │ exit code: 1\n",
      "  ╰─> [60 lines of output]\n",
      "      <string>:16: _DeprecatedInstaller: setuptools.installer and fetch_build_eggs are deprecated.\n",
      "      !!\n",
      "      \n",
      "              ********************************************************************************\n",
      "              Requirements should be satisfied by a PEP 517 installer.\n",
      "              If you are using pip, you can try `pip install --use-pep517`.\n",
      "              ********************************************************************************\n",
      "      \n",
      "      !!\n",
      "      C:\\Program Files\\Python311\\python.exe: No module named pip\n",
      "      Traceback (most recent call last):\n",
      "        File \"C:\\Users\\pj430626\\AppData\\Local\\Temp\\pip-build-env-cm8r62ec\\overlay\\Lib\\site-packages\\setuptools\\installer.py\", line 96, in _fetch_build_egg_no_warn\n",
      "          subprocess.check_call(cmd)\n",
      "        File \"C:\\Program Files\\Python311\\Lib\\subprocess.py\", line 413, in check_call\n",
      "          raise CalledProcessError(retcode, cmd)\n",
      "      subprocess.CalledProcessError: Command '['C:\\\\Program Files\\\\Python311\\\\python.exe', '-m', 'pip', '--disable-pip-version-check', 'wheel', '--no-deps', '-w', 'C:\\\\Users\\\\pj430626\\\\AppData\\\\Local\\\\Temp\\\\tmpnijzenhw', '--quiet', 'numpy>=1.19']' returned non-zero exit status 1.\n",
      "      \n",
      "      The above exception was the direct cause of the following exception:\n",
      "      \n",
      "      Traceback (most recent call last):\n",
      "        File \"C:\\Users\\pj430626\\AppData\\Roaming\\Python\\Python311\\site-packages\\pip\\_vendor\\pyproject_hooks\\_in_process\\_in_process.py\", line 353, in <module>\n",
      "          main()\n",
      "        File \"C:\\Users\\pj430626\\AppData\\Roaming\\Python\\Python311\\site-packages\\pip\\_vendor\\pyproject_hooks\\_in_process\\_in_process.py\", line 335, in main\n",
      "          json_out['return_val'] = hook(**hook_input['kwargs'])\n",
      "                                   ^^^^^^^^^^^^^^^^^^^^^^^^^^^^\n",
      "        File \"C:\\Users\\pj430626\\AppData\\Roaming\\Python\\Python311\\site-packages\\pip\\_vendor\\pyproject_hooks\\_in_process\\_in_process.py\", line 118, in get_requires_for_build_wheel\n",
      "          return hook(config_settings)\n",
      "                 ^^^^^^^^^^^^^^^^^^^^^\n",
      "        File \"C:\\Users\\pj430626\\AppData\\Local\\Temp\\pip-build-env-cm8r62ec\\overlay\\Lib\\site-packages\\setuptools\\build_meta.py\", line 341, in get_requires_for_build_wheel\n",
      "          return self._get_build_requires(config_settings, requirements=['wheel'])\n",
      "                 ^^^^^^^^^^^^^^^^^^^^^^^^^^^^^^^^^^^^^^^^^^^^^^^^^^^^^^^^^^^^^^^^^\n",
      "        File \"C:\\Users\\pj430626\\AppData\\Local\\Temp\\pip-build-env-cm8r62ec\\overlay\\Lib\\site-packages\\setuptools\\build_meta.py\", line 323, in _get_build_requires\n",
      "          self.run_setup()\n",
      "        File \"C:\\Users\\pj430626\\AppData\\Local\\Temp\\pip-build-env-cm8r62ec\\overlay\\Lib\\site-packages\\setuptools\\build_meta.py\", line 488, in run_setup\n",
      "          self).run_setup(setup_script=setup_script)\n",
      "                ^^^^^^^^^^^^^^^^^^^^^^^^^^^^^^^^^^^^\n",
      "        File \"C:\\Users\\pj430626\\AppData\\Local\\Temp\\pip-build-env-cm8r62ec\\overlay\\Lib\\site-packages\\setuptools\\build_meta.py\", line 338, in run_setup\n",
      "          exec(code, locals())\n",
      "        File \"<string>\", line 16, in <module>\n",
      "        File \"C:\\Users\\pj430626\\AppData\\Local\\Temp\\pip-build-env-cm8r62ec\\overlay\\Lib\\site-packages\\setuptools\\dist.py\", line 917, in fetch_build_eggs\n",
      "          return _fetch_build_eggs(self, requires)\n",
      "                 ^^^^^^^^^^^^^^^^^^^^^^^^^^^^^^^^^\n",
      "        File \"C:\\Users\\pj430626\\AppData\\Local\\Temp\\pip-build-env-cm8r62ec\\overlay\\Lib\\site-packages\\setuptools\\installer.py\", line 38, in _fetch_build_eggs\n",
      "          resolved_dists = pkg_resources.working_set.resolve(\n",
      "                           ^^^^^^^^^^^^^^^^^^^^^^^^^^^^^^^^^^\n",
      "        File \"C:\\Users\\pj430626\\AppData\\Local\\Temp\\pip-build-env-cm8r62ec\\overlay\\Lib\\site-packages\\pkg_resources\\__init__.py\", line 827, in resolve\n",
      "          dist = self._resolve_dist(\n",
      "                 ^^^^^^^^^^^^^^^^^^^\n",
      "        File \"C:\\Users\\pj430626\\AppData\\Local\\Temp\\pip-build-env-cm8r62ec\\overlay\\Lib\\site-packages\\pkg_resources\\__init__.py\", line 863, in _resolve_dist\n",
      "          dist = best[req.key] = env.best_match(\n",
      "                                 ^^^^^^^^^^^^^^^\n",
      "        File \"C:\\Users\\pj430626\\AppData\\Local\\Temp\\pip-build-env-cm8r62ec\\overlay\\Lib\\site-packages\\pkg_resources\\__init__.py\", line 1133, in best_match\n",
      "          return self.obtain(req, installer)\n",
      "                 ^^^^^^^^^^^^^^^^^^^^^^^^^^^\n",
      "        File \"C:\\Users\\pj430626\\AppData\\Local\\Temp\\pip-build-env-cm8r62ec\\overlay\\Lib\\site-packages\\pkg_resources\\__init__.py\", line 1145, in obtain\n",
      "          return installer(requirement)\n",
      "                 ^^^^^^^^^^^^^^^^^^^^^^\n",
      "        File \"C:\\Users\\pj430626\\AppData\\Local\\Temp\\pip-build-env-cm8r62ec\\overlay\\Lib\\site-packages\\setuptools\\installer.py\", line 98, in _fetch_build_egg_no_warn\n",
      "          raise DistutilsError(str(e)) from e\n",
      "      distutils.errors.DistutilsError: Command '['C:\\\\Program Files\\\\Python311\\\\python.exe', '-m', 'pip', '--disable-pip-version-check', 'wheel', '--no-deps', '-w', 'C:\\\\Users\\\\pj430626\\\\AppData\\\\Local\\\\Temp\\\\tmpnijzenhw', '--quiet', 'numpy>=1.19']' returned non-zero exit status 1.\n",
      "      [end of output]\n",
      "  \n",
      "  note: This error originates from a subprocess, and is likely not a problem with pip.\n",
      "error: subprocess-exited-with-error\n",
      "\n",
      "× Getting requirements to build wheel did not run successfully.\n",
      "│ exit code: 1\n",
      "╰─> See above for output.\n",
      "\n",
      "note: This error originates from a subprocess, and is likely not a problem with pip.\n"
     ]
    }
   ],
   "source": [
    "pip install FlowKit"
   ]
  },
  {
   "cell_type": "code",
   "execution_count": 43,
   "metadata": {},
   "outputs": [
    {
     "ename": "ModuleNotFoundError",
     "evalue": "No module named 'flowkit'",
     "output_type": "error",
     "traceback": [
      "\u001b[1;31m---------------------------------------------------------------------------\u001b[0m",
      "\u001b[1;31mModuleNotFoundError\u001b[0m                       Traceback (most recent call last)",
      "Cell \u001b[1;32mIn[43], line 1\u001b[0m\n\u001b[1;32m----> 1\u001b[0m \u001b[38;5;28;01mimport\u001b[39;00m \u001b[38;5;21;01mflowkit\u001b[39;00m \u001b[38;5;28;01mas\u001b[39;00m \u001b[38;5;21;01mfk\u001b[39;00m\n\u001b[0;32m      2\u001b[0m \u001b[38;5;28;01mfrom\u001b[39;00m \u001b[38;5;21;01mcoscine\u001b[39;00m\u001b[38;5;21;01m.\u001b[39;00m\u001b[38;5;21;01mclient\u001b[39;00m \u001b[38;5;28;01mimport\u001b[39;00m User\n",
      "\u001b[1;31mModuleNotFoundError\u001b[0m: No module named 'flowkit'"
     ]
    }
   ],
   "source": [
    "import flowkit as fk # installation has errors... \n",
    "from coscine.client import User\n"
   ]
  },
  {
   "attachments": {},
   "cell_type": "markdown",
   "metadata": {},
   "source": [
    "We'll use another resource here with a fitting application profile. Since everything else stays the same, let's just change the resource to 'FACS_data':"
   ]
  },
  {
   "cell_type": "code",
   "execution_count": 5,
   "metadata": {},
   "outputs": [
    {
     "ename": "NameError",
     "evalue": "name 'project' is not defined",
     "output_type": "error",
     "traceback": [
      "\u001b[1;31m---------------------------------------------------------------------------\u001b[0m",
      "\u001b[1;31mNameError\u001b[0m                                 Traceback (most recent call last)",
      "Cell \u001b[1;32mIn[5], line 1\u001b[0m\n\u001b[1;32m----> 1\u001b[0m resource \u001b[39m=\u001b[39m project\u001b[39m.\u001b[39mresource(\u001b[39m'\u001b[39m\u001b[39mFACS_data\u001b[39m\u001b[39m'\u001b[39m)\n\u001b[0;32m      2\u001b[0m \u001b[39mprint\u001b[39m(resource)\n",
      "\u001b[1;31mNameError\u001b[0m: name 'project' is not defined"
     ]
    }
   ],
   "source": [
    "resource = project.resource('FACS_data')\n",
    "print(resource)"
   ]
  },
  {
   "attachments": {},
   "cell_type": "markdown",
   "metadata": {},
   "source": [
    "We can use regex patterns to validate some of this data. This can also be done when creating the profile and setting field properties, but it wasn't here. However, you can play around with this on the [application profile generator](https://coscine.rwth-aachen.de/coscine/apps/aimsfrontend/)."
   ]
  },
  {
   "cell_type": "code",
   "execution_count": 79,
   "metadata": {},
   "outputs": [
    {
     "name": "stdout",
     "output_type": "stream",
     "text": [
      "loaded metadata form\n",
      "+---+----------+--------------------+-------+\n",
      "| C | Type     | Property           | Value |\n",
      "+---+----------+--------------------+-------+\n",
      "|   | [str]    | Hypothesis         |       |\n",
      "| V | str      | Instrument*        |       |\n",
      "|   | [str]    | Organism           |       |\n",
      "|   | [str]    | Cell source        |       |\n",
      "|   | [str]    | Markers analysed*  |       |\n",
      "|   | int      | Number of Samples* |       |\n",
      "|   | [str]    | Reference          |       |\n",
      "|   | str      | Creator*           |       |\n",
      "|   | str      | Affiliation        |       |\n",
      "|   | str      | ORCID              |       |\n",
      "|   | datetime | Date of Analysis*  |       |\n",
      "|   | str      | Rights             |       |\n",
      "+---+----------+--------------------+-------+\n"
     ]
    }
   ],
   "source": [
    "metadata = resource.metadata_form()\n",
    "assert metadata is not None\n",
    "print(\"loaded metadata form\")\n",
    "print(metadata)"
   ]
  },
  {
   "attachments": {},
   "cell_type": "markdown",
   "metadata": {},
   "source": [
    "Get User info (based on token) to fill out creator:"
   ]
  },
  {
   "cell_type": "code",
   "execution_count": 83,
   "metadata": {},
   "outputs": [
    {
     "name": "stdout",
     "output_type": "stream",
     "text": [
      "Nicole Parks\n"
     ]
    }
   ],
   "source": [
    "# create an instance of the User class\n",
    "user = User(client)\n",
    "\n",
    "# print the user's name\n",
    "print(user.name)"
   ]
  },
  {
   "attachments": {},
   "cell_type": "markdown",
   "metadata": {},
   "source": [
    "Specify a path for the research data. Here, we use the path our notebook is located in:"
   ]
  },
  {
   "cell_type": "code",
   "execution_count": 57,
   "metadata": {},
   "outputs": [
    {
     "name": "stdout",
     "output_type": "stream",
     "text": [
      "fcs_files\\d5_1_Col_1to16_012.fcs\n",
      "fcs_files\\d5_1_Col_1to32_013.fcs\n",
      "fcs_files\\d5_1_Col_1to4_010.fcs\n",
      "fcs_files\\d5_1_Col_1to8_011.fcs\n"
     ]
    }
   ],
   "source": [
    "files = Path('fcs_files').glob('*')\n",
    "for file in files:\n",
    "    print(file)"
   ]
  },
  {
   "cell_type": "code",
   "execution_count": 56,
   "metadata": {},
   "outputs": [
    {
     "data": {
      "text/plain": [
       "[]"
      ]
     },
     "execution_count": 56,
     "metadata": {},
     "output_type": "execute_result"
    }
   ],
   "source": [
    "file = 'fcs_files\\d5_1_Col_1to16_012.fcs'"
   ]
  },
  {
   "cell_type": "code",
   "execution_count": 63,
   "metadata": {},
   "outputs": [
    {
     "ename": "UnicodeDecodeError",
     "evalue": "'charmap' codec can't decode byte 0x8d in position 3731: character maps to <undefined>",
     "output_type": "error",
     "traceback": [
      "\u001b[1;31m---------------------------------------------------------------------------\u001b[0m",
      "\u001b[1;31mUnicodeDecodeError\u001b[0m                        Traceback (most recent call last)",
      "Cell \u001b[1;32mIn[63], line 2\u001b[0m\n\u001b[0;32m      1\u001b[0m \u001b[38;5;28;01mwith\u001b[39;00m \u001b[38;5;28mopen\u001b[39m(file) \u001b[38;5;28;01mas\u001b[39;00m f:\n\u001b[1;32m----> 2\u001b[0m     lines \u001b[38;5;241m=\u001b[39m \u001b[43mf\u001b[49m\u001b[38;5;241;43m.\u001b[39;49m\u001b[43mreadlines\u001b[49m\u001b[43m(\u001b[49m\u001b[43m)\u001b[49m\n",
      "File \u001b[1;32mC:\\Program Files\\Python311\\Lib\\encodings\\cp1252.py:23\u001b[0m, in \u001b[0;36mIncrementalDecoder.decode\u001b[1;34m(self, input, final)\u001b[0m\n\u001b[0;32m     <a href='file:///c%3A/Program%20Files/Python311/Lib/encodings/cp1252.py?line=21'>22</a>\u001b[0m \u001b[39mdef\u001b[39;00m \u001b[39mdecode\u001b[39m(\u001b[39mself\u001b[39m, \u001b[39minput\u001b[39m, final\u001b[39m=\u001b[39m\u001b[39mFalse\u001b[39;00m):\n\u001b[1;32m---> <a href='file:///c%3A/Program%20Files/Python311/Lib/encodings/cp1252.py?line=22'>23</a>\u001b[0m     \u001b[39mreturn\u001b[39;00m codecs\u001b[39m.\u001b[39mcharmap_decode(\u001b[39minput\u001b[39m,\u001b[39mself\u001b[39m\u001b[39m.\u001b[39merrors,decoding_table)[\u001b[39m0\u001b[39m]\n",
      "\u001b[1;31mUnicodeDecodeError\u001b[0m: 'charmap' codec can't decode byte 0x8d in position 3731: character maps to <undefined>"
     ]
    }
   ],
   "source": [
    "with open(file) as f:\n",
    "    lines = f.readlines()"
   ]
  },
  {
   "cell_type": "code",
   "execution_count": 62,
   "metadata": {},
   "outputs": [
    {
     "ename": "TypeError",
     "evalue": "'builtin_function_or_method' object is not iterable",
     "output_type": "error",
     "traceback": [
      "\u001b[1;31m---------------------------------------------------------------------------\u001b[0m",
      "\u001b[1;31mTypeError\u001b[0m                                 Traceback (most recent call last)",
      "Cell \u001b[1;32mIn[62], line 1\u001b[0m\n\u001b[1;32m----> 1\u001b[0m \u001b[38;5;28;01mfor\u001b[39;00m line \u001b[38;5;129;01min\u001b[39;00m lines:\n\u001b[0;32m      2\u001b[0m     \u001b[38;5;28mprint\u001b[39m(line)\n",
      "\u001b[1;31mTypeError\u001b[0m: 'builtin_function_or_method' object is not iterable"
     ]
    }
   ],
   "source": [
    "for line in lines:\n",
    "    print(line)"
   ]
  },
  {
   "attachments": {},
   "cell_type": "markdown",
   "metadata": {},
   "source": [
    "Write a function that retrieves all '.fcs' or '.LMD' files from a given folder path."
   ]
  },
  {
   "cell_type": "code",
   "execution_count": 1,
   "metadata": {},
   "outputs": [],
   "source": [
    "def get_all_files_from_directory(folder_path):\n",
    "    return_value = {}\n",
    "    for pattern in ('*.fcs', '*.LMD'):\n",
    "          for file_name in Path(folder_path).glob(pattern):\n",
    "            sample = fk.Sample(file_name)\n",
    "            fcs_metadata = sample.get_metadata()\n",
    "            return_value[file_name.as_posix()] = sample.get_metadata()\n",
    "\n",
    "    return return_value"
   ]
  },
  {
   "attachments": {},
   "cell_type": "markdown",
   "metadata": {},
   "source": [
    "Write a function that extracts metadata from the file "
   ]
  },
  {
   "cell_type": "code",
   "execution_count": 100,
   "metadata": {},
   "outputs": [],
   "source": [
    "def extract_metadata_from_file(file_path: str) -> dict:\n",
    "    sample = fk.Sample(file_path)\n",
    "    return sample.get_metadata()"
   ]
  },
  {
   "cell_type": "code",
   "execution_count": 101,
   "metadata": {},
   "outputs": [],
   "source": [
    "metadata_files = get_all_files_from_directory(folder_path)"
   ]
  },
  {
   "attachments": {},
   "cell_type": "markdown",
   "metadata": {},
   "source": [
    "Defining fcs_metadata outside of the defined function"
   ]
  },
  {
   "cell_type": "code",
   "execution_count": 102,
   "metadata": {},
   "outputs": [],
   "source": [
    "for pattern in ('*.fcs', '*.LMD'):\n",
    "     for file_name in Path(folder_path).glob(pattern):\n",
    "        sample = fk.Sample(file_name)\n",
    "        fcs_metadata = sample.get_metadata()"
   ]
  },
  {
   "attachments": {},
   "cell_type": "markdown",
   "metadata": {},
   "source": [
    "Count number of files with the same Experiment Name in order to Obtain Number of Samples"
   ]
  },
  {
   "attachments": {},
   "cell_type": "markdown",
   "metadata": {},
   "source": [
    "Write a function that counts the number of files with the same file name. \n",
    "The total number of files with the same name will listed on the metadata form as the 'Number of Samples'."
   ]
  },
  {
   "cell_type": "code",
   "execution_count": 103,
   "metadata": {},
   "outputs": [],
   "source": [
    "def count_exp_name_files(metadata_files):\n",
    "    exp_name_count = {}\n",
    "    for file_name, metadata in metadata_files.items():\n",
    "        exp_name = metadata.get('experiment name')\n",
    "        if exp_name is not None:\n",
    "            exp_name_count[exp_name] = exp_name_count.get(exp_name, 0) + 1\n",
    "        else:\n",
    "            exp_name = metadata.get('groupname')\n",
    "            if exp_name is not None:\n",
    "                exp_name_count[exp_name] = exp_name_count.get(exp_name, 0) + 1 \n",
    "            else:\n",
    "                exp_name = metadata.get('experiment_name')\n",
    "                if exp_name is not None:\n",
    "                    exp_name_count[exp_name] = exp_name_count.get(exp_name, 0) + 1   \n",
    "                else:\n",
    "                    exp_name = metadata.get('@testname')\n",
    "                    if exp_name is not None:\n",
    "                        exp_name_count[exp_name] = exp_name_count.get(exp_name, 0) + 1 \n",
    "    return sum(exp_name_count.values())"
   ]
  },
  {
   "cell_type": "code",
   "execution_count": 104,
   "metadata": {},
   "outputs": [
    {
     "data": {
      "text/plain": [
       "1"
      ]
     },
     "execution_count": 104,
     "metadata": {},
     "output_type": "execute_result"
    }
   ],
   "source": [
    "count_exp_name_files(metadata_files)"
   ]
  },
  {
   "attachments": {},
   "cell_type": "markdown",
   "metadata": {},
   "source": [
    "Set instrument Name in Coscine based on how it is stored in file metadata keys"
   ]
  },
  {
   "cell_type": "code",
   "execution_count": 111,
   "metadata": {},
   "outputs": [],
   "source": [
    "def set_instrument_name(name):\n",
    "    if name == 'Aurora':\n",
    "        return 'Cytek Aurora'\n",
    "    if name == \"FACSAriaII\":\n",
    "        return \"BD Aria\"\n",
    "    if name == 'LSRFortessa':\n",
    "        return 'BD LSRFortessa'        \n",
    "    if name == 'Gallios':\n",
    "        return 'andere'\n",
    "    raise NotImplementedError"
   ]
  },
  {
   "cell_type": "code",
   "execution_count": 112,
   "metadata": {},
   "outputs": [
    {
     "data": {
      "text/plain": [
       "'LSRFortessa'"
      ]
     },
     "execution_count": 112,
     "metadata": {},
     "output_type": "execute_result"
    }
   ],
   "source": [
    "fcs_metadata['cyt']"
   ]
  },
  {
   "cell_type": "code",
   "execution_count": 113,
   "metadata": {},
   "outputs": [],
   "source": [
    "fcs_metadata[\"cyt\"] = set_instrument_name(fcs_metadata[\"cyt\"])"
   ]
  },
  {
   "attachments": {},
   "cell_type": "markdown",
   "metadata": {},
   "source": [
    "Format time to match required field in Coscine Resource"
   ]
  },
  {
   "cell_type": "code",
   "execution_count": 114,
   "metadata": {},
   "outputs": [],
   "source": [
    "fcs_metadata['date'] = datetime.strptime(fcs_metadata['date'],'%d-%b-%Y')"
   ]
  },
  {
   "attachments": {},
   "cell_type": "markdown",
   "metadata": {},
   "source": [
    "Define Function to obtain Markers Analyzed"
   ]
  },
  {
   "cell_type": "code",
   "execution_count": 115,
   "metadata": {},
   "outputs": [],
   "source": [
    "def cd4_values(metadata_files):\n",
    "    pattern = re.compile(r'^p\\d+s$')    \n",
    "    metadata_values = []\n",
    "    for file_path in metadata_files:\n",
    "        with open(file_path, 'rb') as file:\n",
    "            sample = fk.Sample(file)\n",
    "            metadata = sample.get_metadata()\n",
    "            metadata_values += [metadata[key] for key in metadata if pattern.match(key)]\n",
    "    return metadata_values\n",
    "\n",
    "metadata_files = get_all_metadata_from_directory(folder_path)\n",
    "markers = cd4_values(metadata_files)\n",
    "\n",
    "num_markers = len(markers)"
   ]
  },
  {
   "cell_type": "code",
   "execution_count": 116,
   "metadata": {},
   "outputs": [
    {
     "name": "stdout",
     "output_type": "stream",
     "text": [
      "{'beginanalysis': '0', 'endanalysis': '0', 'beginstext': '0', 'endstext': '0', 'begindata': '3602', 'enddata': '9321781            ', 'fil': 'd5_1_Col_1to4_010.fcs', 'sys': 'Windows 7 6.1', 'tot': '155303             ', 'par': '15', 'mode': 'L', 'byteord': '4,3,2,1', 'datatype': 'F', 'nextdata': '0', 'creator': 'BD FACSDiva Software Version 8.0.1', 'tube name': '1_Col_1to4', 'src': 'd5', 'experiment name': '20210209_invitro_DCs-Tcells_OVApulse_d5', 'guid': '029b30bb-2354-4420-bb6e-6507aa9d9210', 'date': datetime.datetime(2021, 2, 9, 0, 0), 'btim': '10:23:15', 'etim': '10:26:45', 'cyt': 'BD LSRFortessa', 'settings': 'Cytometer', 'cytnum': 'H647794E6045', 'window extension': '10.00', 'export user name': 'UserIMM', 'export time': '09-FEB-2021-11:55:06', 'op': 'UserIMM', 'fsc asf': '0.68', 'autobs': 'TRUE', 'inst': ' ', 'laser1name': 'Blue', 'laser1delay': '0.00', 'laser1asf': '0.80', 'laser2name': 'Red', 'laser2delay': '71.15', 'laser2asf': '0.75', 'laser3name': 'Violet', 'laser3delay': '35.87', 'laser3asf': '0.74', 'laser4name': '561 Yellow-Green', 'laser4delay': '105.69', 'laser4asf': '0.78', 'timestep': '0.01', 'spill': '8,FITC-A,PerCP-A,APC-A,APC-Cy7-A,BV421-A,BV510-A,PE-A,PE-Cy7-A,1,0.026000003338957668,0,0,0,0.06800056295755792,0,0,0.0010034947112915423,1,0.0520000045507905,0.02299999955687665,0,0,0.04700000366609675,0.27000000426483517,0,0.0029992381736535984,1,0.14000000509942384,0,0,0,0.002999994656671401,0,0,0.047999998930079515,1,0,0,0,0.05800000111799975,0,0,0,0,1,0.17800000220576,0,0,0,0,0,0,0.08900000602367,1,0,0,0.006000002825698358,0.14099999679527817,0,0,0,0.002007811757680089,1,0.01600000408955998,0.000999970418175334,0.028999994792337787,0.010000002690779875,0.3360000034681101,0.002000866212996406,0,0.013999998548890079,1', 'apply compensation': 'TRUE', 'threshold': 'FSC,2500', 'p1n': 'FSC-A', 'p1r': '262144', 'p1b': '32', 'p1e': '0,0', 'p1v': '170', 'p1g': '1.0', 'p1display': 'LIN', 'p1bs': '0', 'p1ms': '0', 'p2n': 'FSC-H', 'p2r': '262144', 'p2b': '32', 'p2e': '0,0', 'p2v': '170', 'p2g': '1.0', 'p2display': 'LIN', 'p2bs': '0', 'p2ms': '0', 'p3n': 'FSC-W', 'p3r': '262144', 'p3b': '32', 'p3e': '0,0', 'p3v': '170', 'p3g': '1.0', 'p3bs': '-1', 'p3ms': '0', 'p4n': 'SSC-A', 'p4r': '262144', 'p4b': '32', 'p4e': '0,0', 'p4v': '250', 'p4g': '1.0', 'p4display': 'LIN', 'p4bs': '0', 'p4ms': '0', 'p5n': 'SSC-H', 'p5r': '262144', 'p5b': '32', 'p5e': '0,0', 'p5v': '250', 'p5g': '1.0', 'p5display': 'LIN', 'p5bs': '0', 'p5ms': '0', 'p6n': 'SSC-W', 'p6r': '262144', 'p6b': '32', 'p6e': '0,0', 'p6v': '250', 'p6g': '1.0', 'p6bs': '-1', 'p6ms': '0', 'p7n': 'FITC-A', 'p7s': 'MHCII', 'p7r': '262144', 'p7b': '32', 'p7e': '0,0', 'p7v': '448', 'p7g': '1.0', 'p7display': 'LOG', 'p7bs': '70', 'p7ms': '0', 'p8n': 'PerCP-A', 'p8s': '7AAD', 'p8r': '262144', 'p8b': '32', 'p8e': '0,0', 'p8v': '640', 'p8g': '1.0', 'p8display': 'LOG', 'p8bs': '544', 'p8ms': '0', 'p9n': 'APC-A', 'p9s': 'hCD2', 'p9r': '262144', 'p9b': '32', 'p9e': '0,0', 'p9v': '640', 'p9g': '1.0', 'p9display': 'LOG', 'p9bs': '683', 'p9ms': '0', 'p10n': 'APC-Cy7-A', 'p10s': 'CD4', 'p10r': '262144', 'p10b': '32', 'p10e': '0,0', 'p10v': '620', 'p10g': '1.0', 'p10display': 'LOG', 'p10bs': '4955', 'p10ms': '0', 'p11n': 'BV421-A', 'p11s': 'eF450', 'p11r': '262144', 'p11b': '32', 'p11e': '0,0', 'p11v': '400', 'p11g': '1.0', 'p11display': 'LOG', 'p11bs': '70', 'p11ms': '0', 'p12n': 'BV510-A', 'p12s': 'CD45 or CD62L', 'p12r': '262144', 'p12b': '32', 'p12e': '0,0', 'p12v': '450', 'p12g': '1.0', 'p12display': 'LOG', 'p12bs': '667', 'p12ms': '0', 'p13n': 'PE-A', 'p13s': 'FMO b7', 'p13r': '262144', 'p13b': '32', 'p13e': '0,0', 'p13v': '470', 'p13g': '1.0', 'p13display': 'LOG', 'p13bs': '79', 'p13ms': '0', 'p14n': 'PE-Cy7-A', 'p14s': 'CD11c or CCR9', 'p14r': '262144', 'p14b': '32', 'p14e': '0,0', 'p14v': '520', 'p14g': '1.0', 'p14display': 'LOG', 'p14bs': '353', 'p14ms': '0', 'p15n': 'Time', 'p15r': '262144', 'p15b': '32', 'p15e': '0,0', 'p15g': '0.01', 'p15bs': '0', 'p15ms': '0', 'cst setup status': 'SUCCESS', 'cst beads lot id': '70405', 'cytometer config name': 'BV Configuration 3-Blue 3-Red 6-Violet 5-YellowGreen', 'cytometer config create date': '2014-10-14T13:06:52+02:00', 'cst setup date': '2017-10-13T09:56:00+02:00', 'cst baseline date': '2017-09-26T12:01:02+02:00', 'cst beads expired': 'False', 'cst performance expired': '2017-10-14T09:56:00+02:00', 'cst regulatory status': 'RUO Performance Check'}\n"
     ]
    }
   ],
   "source": [
    "print(fcs_metadata)"
   ]
  },
  {
   "cell_type": "code",
   "execution_count": 117,
   "metadata": {},
   "outputs": [
    {
     "name": "stdout",
     "output_type": "stream",
     "text": [
      "['MHCII', '7AAD', 'hCD2', 'CD4', 'eF450', 'CD45 or CD62L', 'FMO b7', 'CD11c or CCR9']\n"
     ]
    }
   ],
   "source": [
    "print(cd4_values(metadata_files))"
   ]
  },
  {
   "attachments": {},
   "cell_type": "markdown",
   "metadata": {},
   "source": [
    "Input Metadata from file to Coscine"
   ]
  },
  {
   "cell_type": "code",
   "execution_count": 118,
   "metadata": {},
   "outputs": [],
   "source": [
    "metadata[\"Number of Samples\"] = count_exp_name_files(metadata_files) \n",
    "metadata['Date of Analysis'] = fcs_metadata['date']\n",
    "metadata['Creator'] = user.name\n",
    "metadata['Instrument'] = fcs_metadata['cyt']\n",
    "metadata['Markers analysed'] = cd4_values(metadata_files)\n",
    "\n",
    "# Check for 'experiment name' metadata key and assign its value to 'Hypothesis' in Coscine\n",
    "if 'experiment name' in fcs_metadata:\n",
    "    metadata['Hypothesis'] = fcs_metadata['experiment name']\n",
    "else:\n",
    "    # Check for 'groupname' metadata key and assign its value to 'Hypothesis' in Coscine\n",
    "    if 'groupname' in fcs_metadata:\n",
    "        metadata['Hypothesis'] = fcs_metadata['groupname']\n",
    "    else:\n",
    "        # Check for 'experiment_name' metadata key and assign its value to 'Hypothesis' in Coscine\n",
    "        if 'experiment_name' in fcs_metadata:\n",
    "            metadata['Hypothesis'] = fcs_metadata['experiment_name']\n",
    "        else:\n",
    "        # Check for 'experiment_name' metadata key and assign its value to 'Hypothesis' in Coscine\n",
    "            if 'proj' in fcs_metadata:\n",
    "                metadata['Hypothesis'] = fcs_metadata['proj']"
   ]
  },
  {
   "cell_type": "code",
   "execution_count": 119,
   "metadata": {},
   "outputs": [
    {
     "name": "stdout",
     "output_type": "stream",
     "text": [
      "+---+----------+--------------------+----------------------------------------------------+\n",
      "| C | Type     | Property           | Value                                              |\n",
      "+---+----------+--------------------+----------------------------------------------------+\n",
      "|   | [str]    | Hypothesis         | 20210209_invitro_DCs-Tcells_OVApulse_d5            |\n",
      "| V | str      | Instrument*        | BD LSRFortessa                                     |\n",
      "|   | [str]    | Organism           |                                                    |\n",
      "|   | [str]    | Cell source        |                                                    |\n",
      "|   | [str]    | Markers analysed*  | MHCII,7AAD,hCD2,CD4,eF450,CD45 or CD62L,FMO        |\n",
      "|   |          |                    | b7,CD11c or CCR9                                   |\n",
      "|   | int      | Number of Samples* | 1                                                  |\n",
      "|   | [str]    | Reference          |                                                    |\n",
      "|   | str      | Creator*           | Nicole Parks                                       |\n",
      "|   | str      | Affiliation        |                                                    |\n",
      "|   | str      | ORCID              |                                                    |\n",
      "|   | datetime | Date of Analysis*  | 2021-02-09                                         |\n",
      "|   | str      | Rights             |                                                    |\n",
      "+---+----------+--------------------+----------------------------------------------------+\n"
     ]
    }
   ],
   "source": [
    "print(metadata)"
   ]
  },
  {
   "cell_type": "code",
   "execution_count": 120,
   "metadata": {},
   "outputs": [
    {
     "data": {
      "text/plain": [
       "PosixPath('d5_1_Col_1to4_010.fcs')"
      ]
     },
     "execution_count": 120,
     "metadata": {},
     "output_type": "execute_result"
    }
   ],
   "source": [
    "file_name"
   ]
  },
  {
   "cell_type": "code",
   "execution_count": 121,
   "metadata": {},
   "outputs": [
    {
     "data": {
      "application/vnd.jupyter.widget-view+json": {
       "model_id": "d293f1e26d164c7095d64c73ccac9895",
       "version_major": 2,
       "version_minor": 0
      },
      "text/plain": [
       "d5_1_Col_1to4_010.fcs:   0%|          | 0.00/9.32M [00:00<?, ?B/s]"
      ]
     },
     "metadata": {},
     "output_type": "display_data"
    }
   ],
   "source": [
    "resource.upload(file_name.name, str(file_name.absolute()), metadata)"
   ]
  }
 ],
 "metadata": {
  "kernelspec": {
   "display_name": "Python 3",
   "language": "python",
   "name": "python3"
  },
  "language_info": {
   "codemirror_mode": {
    "name": "ipython",
    "version": 3
   },
   "file_extension": ".py",
   "mimetype": "text/x-python",
   "name": "python",
   "nbconvert_exporter": "python",
   "pygments_lexer": "ipython3",
   "version": "3.11.2"
  },
  "orig_nbformat": 4,
  "vscode": {
   "interpreter": {
    "hash": "5238573367df39f7286bb46f9ff5f08f63a01a80960060ce41e3c79b190280fa"
   }
  }
 },
 "nbformat": 4,
 "nbformat_minor": 2
}
